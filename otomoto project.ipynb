{
 "cells": [
  {
   "cell_type": "markdown",
   "metadata": {},
   "source": [
    "## Creating a data set"
   ]
  },
  {
   "cell_type": "code",
   "execution_count": 1,
   "metadata": {},
   "outputs": [],
   "source": [
    "from bs4 import BeautifulSoup as bs\n",
    "import requests\n",
    "import pandas as pd\n",
    "import numpy as np\n",
    "import seaborn as sns\n",
    "import matplotlib.pyplot as plt\n",
    "from datetime import datetime\n",
    "import math\n",
    "%matplotlib inline"
   ]
  },
  {
   "cell_type": "code",
   "execution_count": 2,
   "metadata": {},
   "outputs": [],
   "source": [
    "def change_nan(value):   #function changing nan into 0 and 'tak' into 1\n",
    "    for i in range(len(value)):\n",
    "        try:\n",
    "            if math.isnan(value[i]):\n",
    "                value[i]=0\n",
    "        except:\n",
    "            if value[i]=='Tak':\n",
    "                value[i]=1\n",
    "            elif value[i]=='tak':\n",
    "                value[i]=1  \n",
    "        \n",
    "    return value\n",
    "\n",
    "def clean_guarantee(value):\n",
    "    try:\n",
    "        return int(value.split()[0])\n",
    "    except:\n",
    "        return value\n",
    "    \n",
    "def clean_instalment(x):\n",
    "    if x=='0':\n",
    "        return int(x)\n",
    "    else:\n",
    "        return int(''.join(x.split()[:-1]))\n",
    "    \n",
    "def change_price(x):\n",
    "    return int(''.join(x.split('PLN')[0].split()))\n",
    "    \n",
    "def change_date(x): #change string into datetime object\n",
    "    try:\n",
    "        if math.isnan(x):\n",
    "            return 0\n",
    "    except:\n",
    "        pass\n",
    "    if x=='0':\n",
    "        return int(x)\n",
    "    elif x==0:\n",
    "        return x\n",
    "    else:\n",
    "        x=x.split()[0]\n",
    "        return datetime.strptime(x, '%d/%m/%Y')\n",
    "    \n",
    "def guarantee_left(x): #how many months of guarantee left\n",
    "    if x==0:\n",
    "        return 0\n",
    "    if x.year>datetime.now().year:\n",
    "        time_left= (12-datetime.now().month)+(x.year-datetime.now().year-1)*12+x.month\n",
    "        if time_left<0:\n",
    "            return 0\n",
    "        else:\n",
    "            return time_left\n",
    "    else:\n",
    "        time_left=x.month-datetime.now().month\n",
    "        if time_left<0:\n",
    "            return 0\n",
    "        else:\n",
    "            return time_left"
   ]
  },
  {
   "cell_type": "code",
   "execution_count": 3,
   "metadata": {},
   "outputs": [],
   "source": [
    "# getting info about one car\n",
    "def get_info2(url):\n",
    "    try:\n",
    "        car_info={}\n",
    "        soup=bs(requests.get(url).content)\n",
    "        car_info['price']=soup.find(class_='offer-price__number').get_text(strip=True)\n",
    "        parameters=soup.find(class_='parametersArea').find_all('li')\n",
    "        for i in range(len(parameters)):\n",
    "            try:\n",
    "                key=parameters[i].find(class_='offer-params__label').get_text(strip=True)\n",
    "                value=parameters[i].find(class_='offer-params__value').get_text(strip=True)\n",
    "                car_info[key]=value\n",
    "            except:\n",
    "                continue\n",
    "\n",
    "        features=soup.find(class_='offer-features').find_all('li')\n",
    "        car_info['num of features']=len(features)\n",
    "        \n",
    "        return car_info\n",
    "    except:\n",
    "        pass"
   ]
  },
  {
   "cell_type": "code",
   "execution_count": null,
   "metadata": {},
   "outputs": [],
   "source": [
    "#creating list of directories about cars\n",
    "list_of_cars=[]\n",
    "for j in range(4):\n",
    "    print('j={}'.format(j))\n",
    "    for k in range(60):\n",
    "        print(k)\n",
    "        soup=bs(requests.get('https://www.otomoto.pl/osobowe/?search%5Bfilter_float_price%3Afrom%5D={}0000'.format(j+1)+'&search%5Bfilter_float_price%3Ato%5D={}0000'.format(j+2)+'&search%5Bfilter_float_year%3Ato%5D=2018&search%5Bfilter_enum_damaged%5D=0&search%5Border%5D=created_at%3Adesc&search%5Bbrand_program_id%5D%5B0%5D=&search%5Bcountry%5D=&page={}'.format(k+1)).content)\n",
    "        offers_lst=soup.find(class_='offers list').find_all(class_='offer-item__title')\n",
    "        for i in range(len(offers_lst)):\n",
    "            link=offers_lst[i].a['href']\n",
    "            list_of_cars.append(get_info2(link))"
   ]
  },
  {
   "cell_type": "code",
   "execution_count": 8,
   "metadata": {},
   "outputs": [],
   "source": [
    "#removing None objects in list_of_cars\n",
    "length=len(list_of_cars)\n",
    "for i in range(length):\n",
    "    if list_of_cars[i]==None:\n",
    "        list_of_cars.remove(list_of_cars[i])\n",
    "        length=len(list_of_cars)"
   ]
  },
  {
   "cell_type": "code",
   "execution_count": 9,
   "metadata": {
    "scrolled": true
   },
   "outputs": [],
   "source": [
    "#creating a data frame\n",
    "df=pd.DataFrame(list_of_cars)"
   ]
  },
  {
   "cell_type": "code",
   "execution_count": 10,
   "metadata": {},
   "outputs": [
    {
     "data": {
      "text/plain": [
       "49"
      ]
     },
     "execution_count": 10,
     "metadata": {},
     "output_type": "execute_result"
    }
   ],
   "source": [
    "len(df.columns)"
   ]
  },
  {
   "cell_type": "code",
   "execution_count": 14,
   "metadata": {},
   "outputs": [],
   "source": [
    "df.to_csv('otomoto 3')"
   ]
  },
  {
   "cell_type": "markdown",
   "metadata": {},
   "source": [
    "We will create seperate data frame for cars which have steering wheel on the right or which are antique."
   ]
  },
  {
   "cell_type": "code",
   "execution_count": 18,
   "metadata": {},
   "outputs": [],
   "source": [
    "#cars that has steering wheel on the right or which are antique\n",
    "df1=df[(df['Kierownica po prawej (Anglik)']=='Tak')|(df['Zarejestrowany jako zabytek'].isnull()!=True)]"
   ]
  },
  {
   "cell_type": "code",
   "execution_count": 26,
   "metadata": {},
   "outputs": [
    {
     "data": {
      "text/html": [
       "<div>\n",
       "<style scoped>\n",
       "    .dataframe tbody tr th:only-of-type {\n",
       "        vertical-align: middle;\n",
       "    }\n",
       "\n",
       "    .dataframe tbody tr th {\n",
       "        vertical-align: top;\n",
       "    }\n",
       "\n",
       "    .dataframe thead th {\n",
       "        text-align: right;\n",
       "    }\n",
       "</style>\n",
       "<table border=\"1\" class=\"dataframe\">\n",
       "  <thead>\n",
       "    <tr style=\"text-align: right;\">\n",
       "      <th></th>\n",
       "      <th>Marka pojazdu</th>\n",
       "      <th>Model pojazdu</th>\n",
       "      <th>Rok produkcji</th>\n",
       "      <th>Zarejestrowany jako zabytek</th>\n",
       "    </tr>\n",
       "  </thead>\n",
       "  <tbody>\n",
       "    <tr>\n",
       "      <th>3272</th>\n",
       "      <td>Audi</td>\n",
       "      <td>A3</td>\n",
       "      <td>2011</td>\n",
       "      <td>Tak</td>\n",
       "    </tr>\n",
       "    <tr>\n",
       "      <th>3567</th>\n",
       "      <td>Opel</td>\n",
       "      <td>Astra</td>\n",
       "      <td>2011</td>\n",
       "      <td>Tak</td>\n",
       "    </tr>\n",
       "    <tr>\n",
       "      <th>3729</th>\n",
       "      <td>BMW</td>\n",
       "      <td>Seria 5</td>\n",
       "      <td>2010</td>\n",
       "      <td>Tak</td>\n",
       "    </tr>\n",
       "    <tr>\n",
       "      <th>4673</th>\n",
       "      <td>Toyota</td>\n",
       "      <td>Yaris</td>\n",
       "      <td>2015</td>\n",
       "      <td>Tak</td>\n",
       "    </tr>\n",
       "    <tr>\n",
       "      <th>4790</th>\n",
       "      <td>Škoda</td>\n",
       "      <td>Superb</td>\n",
       "      <td>2012</td>\n",
       "      <td>Tak</td>\n",
       "    </tr>\n",
       "    <tr>\n",
       "      <th>6273</th>\n",
       "      <td>Volkswagen</td>\n",
       "      <td>Sharan</td>\n",
       "      <td>2015</td>\n",
       "      <td>Tak</td>\n",
       "    </tr>\n",
       "  </tbody>\n",
       "</table>\n",
       "</div>"
      ],
      "text/plain": [
       "     Marka pojazdu Model pojazdu  Rok produkcji Zarejestrowany jako zabytek\n",
       "3272          Audi            A3           2011                         Tak\n",
       "3567          Opel         Astra           2011                         Tak\n",
       "3729           BMW       Seria 5           2010                         Tak\n",
       "4673        Toyota         Yaris           2015                         Tak\n",
       "4790         Škoda        Superb           2012                         Tak\n",
       "6273    Volkswagen        Sharan           2015                         Tak"
      ]
     },
     "execution_count": 26,
     "metadata": {},
     "output_type": "execute_result"
    }
   ],
   "source": [
    "df1[df1['Zarejestrowany jako zabytek'].isnull()!=True][['Marka pojazdu','Model pojazdu','Rok produkcji','Zarejestrowany jako zabytek']]"
   ]
  },
  {
   "cell_type": "markdown",
   "metadata": {},
   "source": [
    "This cars doesn't seem to be an antique so we will remove them from our data frame. We will also remove cars with steering wheel on the right and cars with unpaid credit because there are just a few cars like that and they may not fit into our model."
   ]
  },
  {
   "cell_type": "code",
   "execution_count": 8,
   "metadata": {},
   "outputs": [],
   "source": [
    "#removing cars with steering wheel on the right or which are antique\n",
    "df.drop(df[df['Kierownica po prawej (Anglik)']=='Tak'].index,inplace=True)\n",
    "df.drop(df[df['Liczba pozostałych rat'].isnull()!=True].index,inplace=True)\n",
    "df.drop(df[df['Zarejestrowany jako zabytek'].isnull()!=True].index,inplace=True)\n",
    "df.drop('Kolor',axis=1,inplace=True)"
   ]
  },
  {
   "cell_type": "code",
   "execution_count": 9,
   "metadata": {},
   "outputs": [],
   "source": [
    "df=df.reset_index(drop=True)"
   ]
  },
  {
   "cell_type": "markdown",
   "metadata": {},
   "source": [
    "Now we will deal with missing values."
   ]
  },
  {
   "cell_type": "code",
   "execution_count": 149,
   "metadata": {
    "scrolled": true
   },
   "outputs": [
    {
     "data": {
      "text/plain": [
       "<matplotlib.axes._subplots.AxesSubplot at 0x1cf1f6b1be0>"
      ]
     },
     "execution_count": 149,
     "metadata": {},
     "output_type": "execute_result"
    },
    {
     "data": {
      "image/png": "[encoded data removed]",
      "text/plain": [
       "<Figure size 432x288 with 2 Axes>"
      ]
     },
     "metadata": {
      "needs_background": "light"
     },
     "output_type": "display_data"
    }
   ],
   "source": [
    "sns.heatmap(df[df.columns[20:40]].isnull())"
   ]
  },
  {
   "cell_type": "markdown",
   "metadata": {},
   "source": [
    "We will remove columns which are unnecessary or which have too much nan values."
   ]
  },
  {
   "cell_type": "code",
   "execution_count": null,
   "metadata": {},
   "outputs": [],
   "source": [
    "#removin columns which are unnecessary or which have too much nan values\n",
    "df.drop(['Emisja CO2','Faktura VAT','Generacja','Homologacja ciężarowa','Kierownica po prawej (Anglik)',\n",
    "        'Kod Silnika','Leasing','Liczba pozostałych rat','Miesięczna rata','Możliwość finansowania',\n",
    "        'Numer rejestracyjny pojazdu','Opłata początkowa','Pierwsza rejestracja','VAT marża','Wartość wykupu','Wersja',\n",
    "        'Zarejestrowany jako zabytek','lub do (przebieg km)','Liczba drzwi','Liczba miejsc','Napęd'],axis=1,inplace=True)"
   ]
  },
  {
   "cell_type": "markdown",
   "metadata": {},
   "source": [
    "Missing values in country of origin column we will set as Polska because I think that is the most probably value and this might be important for our model."
   ]
  },
  {
   "cell_type": "code",
   "execution_count": 13,
   "metadata": {},
   "outputs": [
    {
     "name": "stderr",
     "output_type": "stream",
     "text": [
      "C:\\ProgramData\\Anaconda3\\lib\\site-packages\\ipykernel_launcher.py:4: SettingWithCopyWarning: \n",
      "A value is trying to be set on a copy of a slice from a DataFrame\n",
      "\n",
      "See the caveats in the documentation: http://pandas.pydata.org/pandas-docs/stable/indexing.html#indexing-view-versus-copy\n",
      "  after removing the cwd from sys.path.\n"
     ]
    }
   ],
   "source": [
    "#changing NaN values in 'Kraj pochodzenia' into Polska\n",
    "for i in range(df['price'].count()):\n",
    "    try:\n",
    "        if math.isnan(df['Kraj pochodzenia'][i]):\n",
    "            df['Kraj pochodzenia'][i]='Polska'\n",
    "    except:\n",
    "        continue"
   ]
  },
  {
   "cell_type": "markdown",
   "metadata": {},
   "source": [
    "We will remove cars with missing values in columns power, capacity of an engine and gear box."
   ]
  },
  {
   "cell_type": "code",
   "execution_count": null,
   "metadata": {},
   "outputs": [],
   "source": [
    "#removing rows with missing values\n",
    "df.drop(df[df['Moc'].isnull()==True].index,inplace=True)\n",
    "df.drop(df[df['Pojemność skokowa'].isnull()==True].index,inplace=True)\n",
    "df.drop(df[df['Skrzynia biegów'].isnull()==True].index,inplace=True)\n",
    "df.drop(df[df['price']=='5 600EUR'].index,inplace=True)"
   ]
  },
  {
   "cell_type": "markdown",
   "metadata": {},
   "source": [
    "In the rest of columns when we have missing value it means that a given car doesn't have a feature which this column represents, so we will fill this fields with 0, and if a given car does have some feature we will set 1."
   ]
  },
  {
   "cell_type": "code",
   "execution_count": 17,
   "metadata": {},
   "outputs": [
    {
     "name": "stderr",
     "output_type": "stream",
     "text": [
      "C:\\ProgramData\\Anaconda3\\lib\\site-packages\\ipykernel_launcher.py:8: SettingWithCopyWarning: \n",
      "A value is trying to be set on a copy of a slice from a DataFrame\n",
      "\n",
      "See the caveats in the documentation: http://pandas.pydata.org/pandas-docs/stable/indexing.html#indexing-view-versus-copy\n",
      "  \n",
      "C:\\ProgramData\\Anaconda3\\lib\\site-packages\\ipykernel_launcher.py:5: SettingWithCopyWarning: \n",
      "A value is trying to be set on a copy of a slice from a DataFrame\n",
      "\n",
      "See the caveats in the documentation: http://pandas.pydata.org/pandas-docs/stable/indexing.html#indexing-view-versus-copy\n",
      "  \"\"\"\n"
     ]
    }
   ],
   "source": [
    "#changing nan values into 0 and 'Tak' into 1\n",
    "df=df.apply(change_nan)"
   ]
  },
  {
   "cell_type": "code",
   "execution_count": 33,
   "metadata": {},
   "outputs": [
    {
     "data": {
      "text/plain": [
       "array(['Używane'], dtype=object)"
      ]
     },
     "execution_count": 33,
     "metadata": {},
     "output_type": "execute_result"
    }
   ],
   "source": [
    "df['Stan'].unique()"
   ]
  },
  {
   "cell_type": "code",
   "execution_count": 34,
   "metadata": {},
   "outputs": [
    {
     "data": {
      "text/plain": [
       "array(['Osobowe'], dtype=object)"
      ]
     },
     "execution_count": 34,
     "metadata": {},
     "output_type": "execute_result"
    }
   ],
   "source": [
    "df['Kategoria'].unique()"
   ]
  },
  {
   "cell_type": "markdown",
   "metadata": {},
   "source": [
    "We will remove unnecessary columns category and condition, because every car has the same value in this columns."
   ]
  },
  {
   "cell_type": "code",
   "execution_count": 86,
   "metadata": {},
   "outputs": [],
   "source": [
    "#removing unnecessary clumns\n",
    "df.drop('Stan',axis=1,inplace=True)\n",
    "df.drop('Kategoria',axis=1,inplace=True)"
   ]
  },
  {
   "cell_type": "code",
   "execution_count": 111,
   "metadata": {},
   "outputs": [],
   "source": [
    "df=df.reset_index(drop=True)"
   ]
  },
  {
   "cell_type": "markdown",
   "metadata": {},
   "source": [
    "Now we will change format of some columns, from string into float or date.time object."
   ]
  },
  {
   "cell_type": "code",
   "execution_count": 48,
   "metadata": {},
   "outputs": [],
   "source": [
    "#changing format of some columns\n",
    "df['Moc']=df['Moc'].apply(clean_guarantee)\n",
    "df['Pojemność skokowa']=df['Pojemność skokowa'].apply(clean_instalment)\n",
    "df['Przebieg']=df['Przebieg'].apply(clean_instalment)\n",
    "df['price']=df['price'].apply(change_price)\n",
    "df['Okres gwarancji producenta']=df['Okres gwarancji producenta'].apply(change_date)\n",
    "df['Gwarancja dealerska (w cenie)']=df['Gwarancja dealerska (w cenie)'].apply(clean_guarantee)"
   ]
  },
  {
   "cell_type": "markdown",
   "metadata": {},
   "source": [
    "We will fix values in Metalik column. Instead of 'metallic' there shoud be 1."
   ]
  },
  {
   "cell_type": "code",
   "execution_count": 37,
   "metadata": {},
   "outputs": [
    {
     "name": "stderr",
     "output_type": "stream",
     "text": [
      "C:\\ProgramData\\Anaconda3\\lib\\site-packages\\ipykernel_launcher.py:3: SettingWithCopyWarning: \n",
      "A value is trying to be set on a copy of a slice from a DataFrame\n",
      "\n",
      "See the caveats in the documentation: http://pandas.pydata.org/pandas-docs/stable/indexing.html#indexing-view-versus-copy\n",
      "  This is separate from the ipykernel package so we can avoid doing imports until\n"
     ]
    }
   ],
   "source": [
    "#fixing values in 'Metalik' column\n",
    "for i in range(df['price'].count()):\n",
    "    if df[df.columns[7]][i]=='metallic':\n",
    "        df[df.columns[7]][i]=1"
   ]
  },
  {
   "cell_type": "markdown",
   "metadata": {},
   "source": [
    "We will create a new column informing about how much guarantee has left."
   ]
  },
  {
   "cell_type": "code",
   "execution_count": null,
   "metadata": {},
   "outputs": [],
   "source": [
    "for i in range(df['price'].count()):\n",
    "    if df['Gwarancja dealerska (w cenie)'][i]!=0:\n",
    "        df['guarantee left'][i]=df['Gwarancja dealerska (w cenie)'][i]\n",
    "    else:\n",
    "        df['guarantee left'][i]=guarantee_left(df['Okres gwarancji producenta'][i])"
   ]
  },
  {
   "cell_type": "code",
   "execution_count": 179,
   "metadata": {
    "scrolled": true
   },
   "outputs": [
    {
     "data": {
      "text/plain": [
       "Index(['Akryl (niemetalizowany)', 'Bezwypadkowy', 'Filtr cząstek stałych',\n",
       "       'Gwarancja dealerska (w cenie)', 'Kraj pochodzenia', 'Marka pojazdu',\n",
       "       'Matowy', 'Metalik', 'Moc', 'Model pojazdu', 'Oferta od',\n",
       "       'Okres gwarancji producenta', 'Perłowy', 'Pierwszy właściciel',\n",
       "       'Pojemność skokowa', 'Przebieg', 'Rodzaj paliwa', 'Rok produkcji',\n",
       "       'Serwisowany w ASO', 'Skrzynia biegów', 'Tuning', 'Typ',\n",
       "       'Zarejestrowany w Polsce', 'num of features', 'price',\n",
       "       'guarantee left'],\n",
       "      dtype='object')"
      ]
     },
     "execution_count": 179,
     "metadata": {},
     "output_type": "execute_result"
    }
   ],
   "source": [
    "df.columns"
   ]
  },
  {
   "cell_type": "markdown",
   "metadata": {},
   "source": [
    "Now we will change some columns into categorical."
   ]
  },
  {
   "cell_type": "code",
   "execution_count": 184,
   "metadata": {},
   "outputs": [],
   "source": [
    "#Changing some columns into categorical\n",
    "\n",
    "df=pd.concat([df,pd.get_dummies(df['Marka pojazdu'])],axis=1)\n",
    "#df1.drop('Marka pojazdu',axis=1,inplace=True)\n",
    "\n",
    "df=pd.concat([df,pd.get_dummies(df['Model pojazdu'])],axis=1)\n",
    "#df1.drop('Model pojazdu',axis=1,inplace=True)\n",
    "\n",
    "df=pd.concat([df,pd.get_dummies(df['Oferta od'])],axis=1)\n",
    "\n",
    "df=pd.concat([df,pd.get_dummies(df['Rodzaj paliwa'])],axis=1)\n",
    "\n",
    "df=pd.concat([df,pd.get_dummies(df['Skrzynia biegów'])],axis=1)\n",
    "\n",
    "df=pd.concat([df,pd.get_dummies(df['Typ'])],axis=1)\n",
    "\n",
    "df=pd.concat([df,pd.get_dummies(df['Kraj pochodzenia'])],axis=1)"
   ]
  },
  {
   "cell_type": "code",
   "execution_count": 36,
   "metadata": {
    "scrolled": true
   },
   "outputs": [],
   "source": [
    "df=df.rename(columns={'Model pojazdu':'model','Marka pojazdu':'brand','Moc':'power','Rok produkcji':'year of production',\n",
    "            'Pojemność skokowa':'capacity of an engine','Przebieg':'mileage'})"
   ]
  },
  {
   "cell_type": "code",
   "execution_count": 187,
   "metadata": {
    "scrolled": true
   },
   "outputs": [],
   "source": [
    "df.to_csv('otomoto clean 3')"
   ]
  },
  {
   "cell_type": "markdown",
   "metadata": {},
   "source": [
    "## Exploratory data analysis"
   ]
  },
  {
   "cell_type": "code",
   "execution_count": 3,
   "metadata": {},
   "outputs": [],
   "source": [
    "df=pd.read_csv('otomoto clean 3')\n",
    "df.drop('Unnamed: 0',axis=1,inplace=True)"
   ]
  },
  {
   "cell_type": "code",
   "execution_count": 4,
   "metadata": {},
   "outputs": [],
   "source": [
    "important_params=['model','brand','power','year of production','capacity of an engine','mileage','price']"
   ]
  },
  {
   "cell_type": "markdown",
   "metadata": {},
   "source": [
    "Let's see how a distubution of a price, a mileage, a year of production and a power looks like."
   ]
  },
  {
   "cell_type": "code",
   "execution_count": 5,
   "metadata": {},
   "outputs": [
    {
     "data": {
      "text/plain": [
       "(array([254., 335., 360., 404., 436., 323., 375., 360., 367., 411., 308.,\n",
       "        380., 380., 353., 398., 323., 381., 411., 353., 399.]),\n",
       " array([10000., 12000., 14000., 16000., 18000., 20000., 22000., 24000.,\n",
       "        26000., 28000., 30000., 32000., 34000., 36000., 38000., 40000.,\n",
       "        42000., 44000., 46000., 48000., 50000.]),\n",
       " <a list of 20 Patch objects>)"
      ]
     },
     "execution_count": 5,
     "metadata": {},
     "output_type": "execute_result"
    },
    {
     "data": {
      "image/png": "[encoded data removed]",
      "text/plain": [
       "<Figure size 432x288 with 1 Axes>"
      ]
     },
     "metadata": {
      "needs_background": "light"
     },
     "output_type": "display_data"
    }
   ],
   "source": [
    "plt.hist(df['price'],bins=20)"
   ]
  },
  {
   "cell_type": "code",
   "execution_count": 200,
   "metadata": {
    "scrolled": true
   },
   "outputs": [
    {
     "data": {
      "text/html": [
       "<div>\n",
       "<style scoped>\n",
       "    .dataframe tbody tr th:only-of-type {\n",
       "        vertical-align: middle;\n",
       "    }\n",
       "\n",
       "    .dataframe tbody tr th {\n",
       "        vertical-align: top;\n",
       "    }\n",
       "\n",
       "    .dataframe thead th {\n",
       "        text-align: right;\n",
       "    }\n",
       "</style>\n",
       "<table border=\"1\" class=\"dataframe\">\n",
       "  <thead>\n",
       "    <tr style=\"text-align: right;\">\n",
       "      <th></th>\n",
       "      <th>0</th>\n",
       "    </tr>\n",
       "  </thead>\n",
       "  <tbody>\n",
       "    <tr>\n",
       "      <th>1123</th>\n",
       "      <td>163</td>\n",
       "    </tr>\n",
       "    <tr>\n",
       "      <th>2732</th>\n",
       "      <td>165</td>\n",
       "    </tr>\n",
       "    <tr>\n",
       "      <th>2906</th>\n",
       "      <td>911</td>\n",
       "    </tr>\n",
       "    <tr>\n",
       "      <th>836</th>\n",
       "      <td>1500</td>\n",
       "    </tr>\n",
       "    <tr>\n",
       "      <th>3059</th>\n",
       "      <td>7000</td>\n",
       "    </tr>\n",
       "    <tr>\n",
       "      <th>2714</th>\n",
       "      <td>7200</td>\n",
       "    </tr>\n",
       "    <tr>\n",
       "      <th>1955</th>\n",
       "      <td>7782</td>\n",
       "    </tr>\n",
       "    <tr>\n",
       "      <th>3501</th>\n",
       "      <td>8574</td>\n",
       "    </tr>\n",
       "    <tr>\n",
       "      <th>2436</th>\n",
       "      <td>8600</td>\n",
       "    </tr>\n",
       "    <tr>\n",
       "      <th>2405</th>\n",
       "      <td>9000</td>\n",
       "    </tr>\n",
       "    <tr>\n",
       "      <th>2382</th>\n",
       "      <td>9041</td>\n",
       "    </tr>\n",
       "    <tr>\n",
       "      <th>1887</th>\n",
       "      <td>10341</td>\n",
       "    </tr>\n",
       "    <tr>\n",
       "      <th>2072</th>\n",
       "      <td>10885</td>\n",
       "    </tr>\n",
       "    <tr>\n",
       "      <th>3100</th>\n",
       "      <td>10937</td>\n",
       "    </tr>\n",
       "    <tr>\n",
       "      <th>1633</th>\n",
       "      <td>11000</td>\n",
       "    </tr>\n",
       "    <tr>\n",
       "      <th>2356</th>\n",
       "      <td>11500</td>\n",
       "    </tr>\n",
       "    <tr>\n",
       "      <th>2689</th>\n",
       "      <td>12072</td>\n",
       "    </tr>\n",
       "    <tr>\n",
       "      <th>2314</th>\n",
       "      <td>12128</td>\n",
       "    </tr>\n",
       "    <tr>\n",
       "      <th>1320</th>\n",
       "      <td>12257</td>\n",
       "    </tr>\n",
       "    <tr>\n",
       "      <th>2415</th>\n",
       "      <td>12441</td>\n",
       "    </tr>\n",
       "    <tr>\n",
       "      <th>2618</th>\n",
       "      <td>12900</td>\n",
       "    </tr>\n",
       "    <tr>\n",
       "      <th>2197</th>\n",
       "      <td>13000</td>\n",
       "    </tr>\n",
       "    <tr>\n",
       "      <th>2964</th>\n",
       "      <td>13655</td>\n",
       "    </tr>\n",
       "    <tr>\n",
       "      <th>2344</th>\n",
       "      <td>14078</td>\n",
       "    </tr>\n",
       "    <tr>\n",
       "      <th>2136</th>\n",
       "      <td>14535</td>\n",
       "    </tr>\n",
       "    <tr>\n",
       "      <th>3082</th>\n",
       "      <td>14700</td>\n",
       "    </tr>\n",
       "    <tr>\n",
       "      <th>2879</th>\n",
       "      <td>15926</td>\n",
       "    </tr>\n",
       "    <tr>\n",
       "      <th>3006</th>\n",
       "      <td>16000</td>\n",
       "    </tr>\n",
       "    <tr>\n",
       "      <th>1014</th>\n",
       "      <td>16100</td>\n",
       "    </tr>\n",
       "    <tr>\n",
       "      <th>3434</th>\n",
       "      <td>16279</td>\n",
       "    </tr>\n",
       "    <tr>\n",
       "      <th>...</th>\n",
       "      <td>...</td>\n",
       "    </tr>\n",
       "    <tr>\n",
       "      <th>846</th>\n",
       "      <td>386000</td>\n",
       "    </tr>\n",
       "    <tr>\n",
       "      <th>1416</th>\n",
       "      <td>387000</td>\n",
       "    </tr>\n",
       "    <tr>\n",
       "      <th>138</th>\n",
       "      <td>388000</td>\n",
       "    </tr>\n",
       "    <tr>\n",
       "      <th>353</th>\n",
       "      <td>388520</td>\n",
       "    </tr>\n",
       "    <tr>\n",
       "      <th>2588</th>\n",
       "      <td>389400</td>\n",
       "    </tr>\n",
       "    <tr>\n",
       "      <th>825</th>\n",
       "      <td>392000</td>\n",
       "    </tr>\n",
       "    <tr>\n",
       "      <th>2317</th>\n",
       "      <td>392895</td>\n",
       "    </tr>\n",
       "    <tr>\n",
       "      <th>2062</th>\n",
       "      <td>396000</td>\n",
       "    </tr>\n",
       "    <tr>\n",
       "      <th>2666</th>\n",
       "      <td>397000</td>\n",
       "    </tr>\n",
       "    <tr>\n",
       "      <th>616</th>\n",
       "      <td>397757</td>\n",
       "    </tr>\n",
       "    <tr>\n",
       "      <th>580</th>\n",
       "      <td>399914</td>\n",
       "    </tr>\n",
       "    <tr>\n",
       "      <th>600</th>\n",
       "      <td>400000</td>\n",
       "    </tr>\n",
       "    <tr>\n",
       "      <th>3244</th>\n",
       "      <td>417800</td>\n",
       "    </tr>\n",
       "    <tr>\n",
       "      <th>3270</th>\n",
       "      <td>420000</td>\n",
       "    </tr>\n",
       "    <tr>\n",
       "      <th>3260</th>\n",
       "      <td>424000</td>\n",
       "    </tr>\n",
       "    <tr>\n",
       "      <th>841</th>\n",
       "      <td>427000</td>\n",
       "    </tr>\n",
       "    <tr>\n",
       "      <th>2180</th>\n",
       "      <td>434715</td>\n",
       "    </tr>\n",
       "    <tr>\n",
       "      <th>1493</th>\n",
       "      <td>440000</td>\n",
       "    </tr>\n",
       "    <tr>\n",
       "      <th>877</th>\n",
       "      <td>465000</td>\n",
       "    </tr>\n",
       "    <tr>\n",
       "      <th>2633</th>\n",
       "      <td>470241</td>\n",
       "    </tr>\n",
       "    <tr>\n",
       "      <th>305</th>\n",
       "      <td>474500</td>\n",
       "    </tr>\n",
       "    <tr>\n",
       "      <th>419</th>\n",
       "      <td>496000</td>\n",
       "    </tr>\n",
       "    <tr>\n",
       "      <th>732</th>\n",
       "      <td>497000</td>\n",
       "    </tr>\n",
       "    <tr>\n",
       "      <th>2623</th>\n",
       "      <td>497192</td>\n",
       "    </tr>\n",
       "    <tr>\n",
       "      <th>638</th>\n",
       "      <td>516000</td>\n",
       "    </tr>\n",
       "    <tr>\n",
       "      <th>457</th>\n",
       "      <td>519332</td>\n",
       "    </tr>\n",
       "    <tr>\n",
       "      <th>1162</th>\n",
       "      <td>590000</td>\n",
       "    </tr>\n",
       "    <tr>\n",
       "      <th>2847</th>\n",
       "      <td>700000</td>\n",
       "    </tr>\n",
       "    <tr>\n",
       "      <th>2347</th>\n",
       "      <td>999999</td>\n",
       "    </tr>\n",
       "    <tr>\n",
       "      <th>894</th>\n",
       "      <td>2446325</td>\n",
       "    </tr>\n",
       "  </tbody>\n",
       "</table>\n",
       "<p>3502 rows × 1 columns</p>\n",
       "</div>"
      ],
      "text/plain": [
       "            0\n",
       "1123      163\n",
       "2732      165\n",
       "2906      911\n",
       "836      1500\n",
       "3059     7000\n",
       "2714     7200\n",
       "1955     7782\n",
       "3501     8574\n",
       "2436     8600\n",
       "2405     9000\n",
       "2382     9041\n",
       "1887    10341\n",
       "2072    10885\n",
       "3100    10937\n",
       "1633    11000\n",
       "2356    11500\n",
       "2689    12072\n",
       "2314    12128\n",
       "1320    12257\n",
       "2415    12441\n",
       "2618    12900\n",
       "2197    13000\n",
       "2964    13655\n",
       "2344    14078\n",
       "2136    14535\n",
       "3082    14700\n",
       "2879    15926\n",
       "3006    16000\n",
       "1014    16100\n",
       "3434    16279\n",
       "...       ...\n",
       "846    386000\n",
       "1416   387000\n",
       "138    388000\n",
       "353    388520\n",
       "2588   389400\n",
       "825    392000\n",
       "2317   392895\n",
       "2062   396000\n",
       "2666   397000\n",
       "616    397757\n",
       "580    399914\n",
       "600    400000\n",
       "3244   417800\n",
       "3270   420000\n",
       "3260   424000\n",
       "841    427000\n",
       "2180   434715\n",
       "1493   440000\n",
       "877    465000\n",
       "2633   470241\n",
       "305    474500\n",
       "419    496000\n",
       "732    497000\n",
       "2623   497192\n",
       "638    516000\n",
       "457    519332\n",
       "1162   590000\n",
       "2847   700000\n",
       "2347   999999\n",
       "894   2446325\n",
       "\n",
       "[3502 rows x 1 columns]"
      ]
     },
     "execution_count": 200,
     "metadata": {},
     "output_type": "execute_result"
    }
   ],
   "source": [
    "pd.DataFrame(df['mileage'].unique()).sort_values(by=0)"
   ]
  },
  {
   "cell_type": "code",
   "execution_count": 9,
   "metadata": {},
   "outputs": [
    {
     "data": {
      "text/plain": [
       "(array([ 42., 160., 253., 304., 441., 520., 591., 719., 748., 722., 812.,\n",
       "        519., 417., 334., 210., 208.,  99.,  83.,  43.,  31.]),\n",
       " array([1.6300000e+02, 1.8604850e+04, 3.7046700e+04, 5.5488550e+04,\n",
       "        7.3930400e+04, 9.2372250e+04, 1.1081410e+05, 1.2925595e+05,\n",
       "        1.4769780e+05, 1.6613965e+05, 1.8458150e+05, 2.0302335e+05,\n",
       "        2.2146520e+05, 2.3990705e+05, 2.5834890e+05, 2.7679075e+05,\n",
       "        2.9523260e+05, 3.1367445e+05, 3.3211630e+05, 3.5055815e+05,\n",
       "        3.6900000e+05]),\n",
       " <a list of 20 Patch objects>)"
      ]
     },
     "execution_count": 9,
     "metadata": {},
     "output_type": "execute_result"
    },
    {
     "data": {
      "image/png": "[encoded data removed]",
      "text/plain": [
       "<Figure size 432x288 with 1 Axes>"
      ]
     },
     "metadata": {
      "needs_background": "light"
     },
     "output_type": "display_data"
    }
   ],
   "source": [
    "plt.hist(df['mileage'],bins=20)"
   ]
  },
  {
   "cell_type": "code",
   "execution_count": 219,
   "metadata": {
    "scrolled": false
   },
   "outputs": [
    {
     "data": {
      "text/plain": [
       "(array([1.000e+00, 1.000e+00, 0.000e+00, 0.000e+00, 2.000e+00, 1.000e+00,\n",
       "        3.000e+00, 1.000e+00, 8.000e+00, 6.000e+00, 1.200e+01, 2.000e+01,\n",
       "        1.200e+01, 9.200e+01, 1.620e+02, 9.400e+02, 1.805e+03, 1.383e+03,\n",
       "        1.735e+03, 1.097e+03]),\n",
       " array([1966. , 1968.6, 1971.2, 1973.8, 1976.4, 1979. , 1981.6, 1984.2,\n",
       "        1986.8, 1989.4, 1992. , 1994.6, 1997.2, 1999.8, 2002.4, 2005. ,\n",
       "        2007.6, 2010.2, 2012.8, 2015.4, 2018. ]),\n",
       " <a list of 20 Patch objects>)"
      ]
     },
     "execution_count": 219,
     "metadata": {},
     "output_type": "execute_result"
    },
    {
     "data": {
      "image/png": "[encoded data removed]",
      "text/plain": [
       "<Figure size 432x288 with 1 Axes>"
      ]
     },
     "metadata": {
      "needs_background": "light"
     },
     "output_type": "display_data"
    }
   ],
   "source": [
    "plt.hist(df['year of production'],bins=20)"
   ]
  },
  {
   "cell_type": "code",
   "execution_count": 254,
   "metadata": {},
   "outputs": [
    {
     "data": {
      "text/plain": [
       "(array([4.000e+00, 4.000e+00, 5.620e+02, 1.377e+03, 1.928e+03, 1.932e+03,\n",
       "        7.960e+02, 2.180e+02, 1.640e+02, 8.900e+01, 6.600e+01, 2.900e+01,\n",
       "        1.500e+01, 1.700e+01, 7.000e+00, 1.000e+00, 0.000e+00, 4.000e+00,\n",
       "        0.000e+00, 1.000e+00]),\n",
       " array([  5.,  31.,  57.,  83., 109., 135., 161., 187., 213., 239., 265.,\n",
       "        291., 317., 343., 369., 395., 421., 447., 473., 499., 525.]),\n",
       " <a list of 20 Patch objects>)"
      ]
     },
     "execution_count": 254,
     "metadata": {},
     "output_type": "execute_result"
    },
    {
     "data": {
      "image/png": "[encoded data removed]",
      "text/plain": [
       "<Figure size 432x288 with 1 Axes>"
      ]
     },
     "metadata": {
      "needs_background": "light"
     },
     "output_type": "display_data"
    }
   ],
   "source": [
    "plt.hist(df['power'],bins=20)"
   ]
  },
  {
   "cell_type": "markdown",
   "metadata": {},
   "source": [
    "## mean price for brands"
   ]
  },
  {
   "cell_type": "code",
   "execution_count": 19,
   "metadata": {
    "scrolled": false
   },
   "outputs": [
    {
     "data": {
      "text/plain": [
       "<matplotlib.axes._subplots.AxesSubplot at 0x22df55fe780>"
      ]
     },
     "execution_count": 19,
     "metadata": {},
     "output_type": "execute_result"
    },
    {
     "data": {
      "image/png": "[encoded data removed]",
      "text/plain": [
       "<Figure size 864x432 with 1 Axes>"
      ]
     },
     "metadata": {
      "needs_background": "light"
     },
     "output_type": "display_data"
    }
   ],
   "source": [
    "fig,axes=plt.subplots(figsize=(12,6))\n",
    "sns.barplot(y='brand',x='price',data=df)"
   ]
  },
  {
   "cell_type": "markdown",
   "metadata": {},
   "source": [
    "Let's sort brands by a mean price. "
   ]
  },
  {
   "cell_type": "code",
   "execution_count": 92,
   "metadata": {
    "scrolled": true
   },
   "outputs": [
    {
     "data": {
      "text/html": [
       "<div>\n",
       "<style scoped>\n",
       "    .dataframe tbody tr th:only-of-type {\n",
       "        vertical-align: middle;\n",
       "    }\n",
       "\n",
       "    .dataframe tbody tr th {\n",
       "        vertical-align: top;\n",
       "    }\n",
       "\n",
       "    .dataframe thead th {\n",
       "        text-align: right;\n",
       "    }\n",
       "</style>\n",
       "<table border=\"1\" class=\"dataframe\">\n",
       "  <thead>\n",
       "    <tr style=\"text-align: right;\">\n",
       "      <th></th>\n",
       "      <th>price</th>\n",
       "    </tr>\n",
       "    <tr>\n",
       "      <th>brand</th>\n",
       "      <th></th>\n",
       "    </tr>\n",
       "  </thead>\n",
       "  <tbody>\n",
       "    <tr>\n",
       "      <th>Infiniti</th>\n",
       "      <td>50000.000000</td>\n",
       "    </tr>\n",
       "    <tr>\n",
       "      <th>DS Automobiles</th>\n",
       "      <td>46431.500000</td>\n",
       "    </tr>\n",
       "    <tr>\n",
       "      <th>Abarth</th>\n",
       "      <td>43700.000000</td>\n",
       "    </tr>\n",
       "    <tr>\n",
       "      <th>Lincoln</th>\n",
       "      <td>43000.000000</td>\n",
       "    </tr>\n",
       "    <tr>\n",
       "      <th>SsangYong</th>\n",
       "      <td>39950.000000</td>\n",
       "    </tr>\n",
       "    <tr>\n",
       "      <th>Jeep</th>\n",
       "      <td>34851.250000</td>\n",
       "    </tr>\n",
       "    <tr>\n",
       "      <th>Volvo</th>\n",
       "      <td>34545.798913</td>\n",
       "    </tr>\n",
       "    <tr>\n",
       "      <th>Lexus</th>\n",
       "      <td>34156.266667</td>\n",
       "    </tr>\n",
       "    <tr>\n",
       "      <th>Kia</th>\n",
       "      <td>34001.697479</td>\n",
       "    </tr>\n",
       "    <tr>\n",
       "      <th>Hyundai</th>\n",
       "      <td>33899.287625</td>\n",
       "    </tr>\n",
       "    <tr>\n",
       "      <th>Land Rover</th>\n",
       "      <td>33603.333333</td>\n",
       "    </tr>\n",
       "    <tr>\n",
       "      <th>Nissan</th>\n",
       "      <td>33460.961165</td>\n",
       "    </tr>\n",
       "    <tr>\n",
       "      <th>Škoda</th>\n",
       "      <td>32155.144928</td>\n",
       "    </tr>\n",
       "    <tr>\n",
       "      <th>Volkswagen</th>\n",
       "      <td>31825.179878</td>\n",
       "    </tr>\n",
       "    <tr>\n",
       "      <th>Jaguar</th>\n",
       "      <td>31606.250000</td>\n",
       "    </tr>\n",
       "    <tr>\n",
       "      <th>Peugeot</th>\n",
       "      <td>31381.303333</td>\n",
       "    </tr>\n",
       "    <tr>\n",
       "      <th>Honda</th>\n",
       "      <td>31304.674157</td>\n",
       "    </tr>\n",
       "    <tr>\n",
       "      <th>Mitsubishi</th>\n",
       "      <td>31245.381443</td>\n",
       "    </tr>\n",
       "    <tr>\n",
       "      <th>Mercedes-Benz</th>\n",
       "      <td>31065.969697</td>\n",
       "    </tr>\n",
       "    <tr>\n",
       "      <th>BMW</th>\n",
       "      <td>30893.846914</td>\n",
       "    </tr>\n",
       "    <tr>\n",
       "      <th>Toyota</th>\n",
       "      <td>30601.463612</td>\n",
       "    </tr>\n",
       "    <tr>\n",
       "      <th>Mini</th>\n",
       "      <td>30346.705882</td>\n",
       "    </tr>\n",
       "    <tr>\n",
       "      <th>Ford</th>\n",
       "      <td>30298.302667</td>\n",
       "    </tr>\n",
       "    <tr>\n",
       "      <th>Smart</th>\n",
       "      <td>30233.333333</td>\n",
       "    </tr>\n",
       "    <tr>\n",
       "      <th>Opel</th>\n",
       "      <td>30079.600529</td>\n",
       "    </tr>\n",
       "    <tr>\n",
       "      <th>Audi</th>\n",
       "      <td>29987.367442</td>\n",
       "    </tr>\n",
       "    <tr>\n",
       "      <th>Mazda</th>\n",
       "      <td>29825.411765</td>\n",
       "    </tr>\n",
       "    <tr>\n",
       "      <th>Dacia</th>\n",
       "      <td>29417.082192</td>\n",
       "    </tr>\n",
       "    <tr>\n",
       "      <th>Subaru</th>\n",
       "      <td>28867.607143</td>\n",
       "    </tr>\n",
       "    <tr>\n",
       "      <th>Renault</th>\n",
       "      <td>28264.855297</td>\n",
       "    </tr>\n",
       "    <tr>\n",
       "      <th>Seat</th>\n",
       "      <td>27460.524272</td>\n",
       "    </tr>\n",
       "    <tr>\n",
       "      <th>Suzuki</th>\n",
       "      <td>27050.080460</td>\n",
       "    </tr>\n",
       "    <tr>\n",
       "      <th>Citroën</th>\n",
       "      <td>26681.232456</td>\n",
       "    </tr>\n",
       "    <tr>\n",
       "      <th>Fiat</th>\n",
       "      <td>26431.398551</td>\n",
       "    </tr>\n",
       "    <tr>\n",
       "      <th>Chevrolet</th>\n",
       "      <td>25647.883333</td>\n",
       "    </tr>\n",
       "    <tr>\n",
       "      <th>Chrysler</th>\n",
       "      <td>25372.636364</td>\n",
       "    </tr>\n",
       "    <tr>\n",
       "      <th>Alfa Romeo</th>\n",
       "      <td>24282.659091</td>\n",
       "    </tr>\n",
       "    <tr>\n",
       "      <th>Dodge</th>\n",
       "      <td>20291.666667</td>\n",
       "    </tr>\n",
       "    <tr>\n",
       "      <th>Lancia</th>\n",
       "      <td>18800.000000</td>\n",
       "    </tr>\n",
       "    <tr>\n",
       "      <th>Cadillac</th>\n",
       "      <td>17900.000000</td>\n",
       "    </tr>\n",
       "    <tr>\n",
       "      <th>Saab</th>\n",
       "      <td>16833.333333</td>\n",
       "    </tr>\n",
       "    <tr>\n",
       "      <th>Daihatsu</th>\n",
       "      <td>16350.000000</td>\n",
       "    </tr>\n",
       "  </tbody>\n",
       "</table>\n",
       "</div>"
      ],
      "text/plain": [
       "                       price\n",
       "brand                       \n",
       "Infiniti        50000.000000\n",
       "DS Automobiles  46431.500000\n",
       "Abarth          43700.000000\n",
       "Lincoln         43000.000000\n",
       "SsangYong       39950.000000\n",
       "Jeep            34851.250000\n",
       "Volvo           34545.798913\n",
       "Lexus           34156.266667\n",
       "Kia             34001.697479\n",
       "Hyundai         33899.287625\n",
       "Land Rover      33603.333333\n",
       "Nissan          33460.961165\n",
       "Škoda           32155.144928\n",
       "Volkswagen      31825.179878\n",
       "Jaguar          31606.250000\n",
       "Peugeot         31381.303333\n",
       "Honda           31304.674157\n",
       "Mitsubishi      31245.381443\n",
       "Mercedes-Benz   31065.969697\n",
       "BMW             30893.846914\n",
       "Toyota          30601.463612\n",
       "Mini            30346.705882\n",
       "Ford            30298.302667\n",
       "Smart           30233.333333\n",
       "Opel            30079.600529\n",
       "Audi            29987.367442\n",
       "Mazda           29825.411765\n",
       "Dacia           29417.082192\n",
       "Subaru          28867.607143\n",
       "Renault         28264.855297\n",
       "Seat            27460.524272\n",
       "Suzuki          27050.080460\n",
       "Citroën         26681.232456\n",
       "Fiat            26431.398551\n",
       "Chevrolet       25647.883333\n",
       "Chrysler        25372.636364\n",
       "Alfa Romeo      24282.659091\n",
       "Dodge           20291.666667\n",
       "Lancia          18800.000000\n",
       "Cadillac        17900.000000\n",
       "Saab            16833.333333\n",
       "Daihatsu        16350.000000"
      ]
     },
     "execution_count": 92,
     "metadata": {},
     "output_type": "execute_result"
    }
   ],
   "source": [
    "pd.DataFrame(df.groupby('brand').mean()['price']).sort_values(by='price',ascending=False)"
   ]
  },
  {
   "cell_type": "markdown",
   "metadata": {},
   "source": [
    "## most popular brands"
   ]
  },
  {
   "cell_type": "code",
   "execution_count": 38,
   "metadata": {
    "scrolled": true
   },
   "outputs": [
    {
     "data": {
      "text/html": [
       "<div>\n",
       "<style scoped>\n",
       "    .dataframe tbody tr th:only-of-type {\n",
       "        vertical-align: middle;\n",
       "    }\n",
       "\n",
       "    .dataframe tbody tr th {\n",
       "        vertical-align: top;\n",
       "    }\n",
       "\n",
       "    .dataframe thead th {\n",
       "        text-align: right;\n",
       "    }\n",
       "</style>\n",
       "<table border=\"1\" class=\"dataframe\">\n",
       "  <thead>\n",
       "    <tr style=\"text-align: right;\">\n",
       "      <th></th>\n",
       "      <th>amount of offers</th>\n",
       "    </tr>\n",
       "    <tr>\n",
       "      <th>brand</th>\n",
       "      <th></th>\n",
       "    </tr>\n",
       "  </thead>\n",
       "  <tbody>\n",
       "    <tr>\n",
       "      <th>Opel</th>\n",
       "      <td>781</td>\n",
       "    </tr>\n",
       "    <tr>\n",
       "      <th>Ford</th>\n",
       "      <td>778</td>\n",
       "    </tr>\n",
       "    <tr>\n",
       "      <th>Volkswagen</th>\n",
       "      <td>698</td>\n",
       "    </tr>\n",
       "    <tr>\n",
       "      <th>Audi</th>\n",
       "      <td>483</td>\n",
       "    </tr>\n",
       "    <tr>\n",
       "      <th>BMW</th>\n",
       "      <td>465</td>\n",
       "    </tr>\n",
       "    <tr>\n",
       "      <th>Renault</th>\n",
       "      <td>395</td>\n",
       "    </tr>\n",
       "    <tr>\n",
       "      <th>Toyota</th>\n",
       "      <td>377</td>\n",
       "    </tr>\n",
       "    <tr>\n",
       "      <th>Škoda</th>\n",
       "      <td>364</td>\n",
       "    </tr>\n",
       "    <tr>\n",
       "      <th>Peugeot</th>\n",
       "      <td>307</td>\n",
       "    </tr>\n",
       "    <tr>\n",
       "      <th>Hyundai</th>\n",
       "      <td>302</td>\n",
       "    </tr>\n",
       "    <tr>\n",
       "      <th>Mercedes-Benz</th>\n",
       "      <td>256</td>\n",
       "    </tr>\n",
       "    <tr>\n",
       "      <th>Kia</th>\n",
       "      <td>243</td>\n",
       "    </tr>\n",
       "    <tr>\n",
       "      <th>Citroën</th>\n",
       "      <td>230</td>\n",
       "    </tr>\n",
       "    <tr>\n",
       "      <th>Seat</th>\n",
       "      <td>215</td>\n",
       "    </tr>\n",
       "    <tr>\n",
       "      <th>Nissan</th>\n",
       "      <td>213</td>\n",
       "    </tr>\n",
       "    <tr>\n",
       "      <th>Volvo</th>\n",
       "      <td>194</td>\n",
       "    </tr>\n",
       "    <tr>\n",
       "      <th>Honda</th>\n",
       "      <td>183</td>\n",
       "    </tr>\n",
       "    <tr>\n",
       "      <th>Fiat</th>\n",
       "      <td>145</td>\n",
       "    </tr>\n",
       "    <tr>\n",
       "      <th>Mazda</th>\n",
       "      <td>144</td>\n",
       "    </tr>\n",
       "    <tr>\n",
       "      <th>Mitsubishi</th>\n",
       "      <td>99</td>\n",
       "    </tr>\n",
       "    <tr>\n",
       "      <th>Suzuki</th>\n",
       "      <td>90</td>\n",
       "    </tr>\n",
       "    <tr>\n",
       "      <th>Dacia</th>\n",
       "      <td>73</td>\n",
       "    </tr>\n",
       "    <tr>\n",
       "      <th>Chevrolet</th>\n",
       "      <td>64</td>\n",
       "    </tr>\n",
       "    <tr>\n",
       "      <th>Alfa Romeo</th>\n",
       "      <td>44</td>\n",
       "    </tr>\n",
       "    <tr>\n",
       "      <th>Mini</th>\n",
       "      <td>35</td>\n",
       "    </tr>\n",
       "    <tr>\n",
       "      <th>Subaru</th>\n",
       "      <td>31</td>\n",
       "    </tr>\n",
       "    <tr>\n",
       "      <th>Saab</th>\n",
       "      <td>24</td>\n",
       "    </tr>\n",
       "    <tr>\n",
       "      <th>Lexus</th>\n",
       "      <td>23</td>\n",
       "    </tr>\n",
       "    <tr>\n",
       "      <th>Chrysler</th>\n",
       "      <td>23</td>\n",
       "    </tr>\n",
       "    <tr>\n",
       "      <th>Dodge</th>\n",
       "      <td>17</td>\n",
       "    </tr>\n",
       "    <tr>\n",
       "      <th>Jeep</th>\n",
       "      <td>16</td>\n",
       "    </tr>\n",
       "    <tr>\n",
       "      <th>Jaguar</th>\n",
       "      <td>14</td>\n",
       "    </tr>\n",
       "    <tr>\n",
       "      <th>Land Rover</th>\n",
       "      <td>11</td>\n",
       "    </tr>\n",
       "    <tr>\n",
       "      <th>Porsche</th>\n",
       "      <td>9</td>\n",
       "    </tr>\n",
       "    <tr>\n",
       "      <th>SsangYong</th>\n",
       "      <td>6</td>\n",
       "    </tr>\n",
       "    <tr>\n",
       "      <th>Lancia</th>\n",
       "      <td>5</td>\n",
       "    </tr>\n",
       "    <tr>\n",
       "      <th>Infiniti</th>\n",
       "      <td>4</td>\n",
       "    </tr>\n",
       "    <tr>\n",
       "      <th>Smart</th>\n",
       "      <td>3</td>\n",
       "    </tr>\n",
       "    <tr>\n",
       "      <th>Lincoln</th>\n",
       "      <td>2</td>\n",
       "    </tr>\n",
       "    <tr>\n",
       "      <th>Aixam</th>\n",
       "      <td>2</td>\n",
       "    </tr>\n",
       "    <tr>\n",
       "      <th>Daihatsu</th>\n",
       "      <td>2</td>\n",
       "    </tr>\n",
       "    <tr>\n",
       "      <th>DS Automobiles</th>\n",
       "      <td>2</td>\n",
       "    </tr>\n",
       "    <tr>\n",
       "      <th>Cadillac</th>\n",
       "      <td>2</td>\n",
       "    </tr>\n",
       "    <tr>\n",
       "      <th>Abarth</th>\n",
       "      <td>2</td>\n",
       "    </tr>\n",
       "    <tr>\n",
       "      <th>Microcar</th>\n",
       "      <td>1</td>\n",
       "    </tr>\n",
       "    <tr>\n",
       "      <th>Ligier</th>\n",
       "      <td>1</td>\n",
       "    </tr>\n",
       "    <tr>\n",
       "      <th>Pontiac</th>\n",
       "      <td>1</td>\n",
       "    </tr>\n",
       "    <tr>\n",
       "      <th>Inny</th>\n",
       "      <td>1</td>\n",
       "    </tr>\n",
       "    <tr>\n",
       "      <th>GMC</th>\n",
       "      <td>1</td>\n",
       "    </tr>\n",
       "  </tbody>\n",
       "</table>\n",
       "</div>"
      ],
      "text/plain": [
       "                amount of offers\n",
       "brand                           \n",
       "Opel                         781\n",
       "Ford                         778\n",
       "Volkswagen                   698\n",
       "Audi                         483\n",
       "BMW                          465\n",
       "Renault                      395\n",
       "Toyota                       377\n",
       "Škoda                        364\n",
       "Peugeot                      307\n",
       "Hyundai                      302\n",
       "Mercedes-Benz                256\n",
       "Kia                          243\n",
       "Citroën                      230\n",
       "Seat                         215\n",
       "Nissan                       213\n",
       "Volvo                        194\n",
       "Honda                        183\n",
       "Fiat                         145\n",
       "Mazda                        144\n",
       "Mitsubishi                    99\n",
       "Suzuki                        90\n",
       "Dacia                         73\n",
       "Chevrolet                     64\n",
       "Alfa Romeo                    44\n",
       "Mini                          35\n",
       "Subaru                        31\n",
       "Saab                          24\n",
       "Lexus                         23\n",
       "Chrysler                      23\n",
       "Dodge                         17\n",
       "Jeep                          16\n",
       "Jaguar                        14\n",
       "Land Rover                    11\n",
       "Porsche                        9\n",
       "SsangYong                      6\n",
       "Lancia                         5\n",
       "Infiniti                       4\n",
       "Smart                          3\n",
       "Lincoln                        2\n",
       "Aixam                          2\n",
       "Daihatsu                       2\n",
       "DS Automobiles                 2\n",
       "Cadillac                       2\n",
       "Abarth                         2\n",
       "Microcar                       1\n",
       "Ligier                         1\n",
       "Pontiac                        1\n",
       "Inny                           1\n",
       "GMC                            1"
      ]
     },
     "execution_count": 38,
     "metadata": {},
     "output_type": "execute_result"
    }
   ],
   "source": [
    "pd.DataFrame(df.groupby('brand').count()['price']).rename(columns={'price':'amount of offers'}).sort_values(by='amount of offers',ascending=False)"
   ]
  },
  {
   "cell_type": "markdown",
   "metadata": {},
   "source": [
    "## cars with biggest power"
   ]
  },
  {
   "cell_type": "code",
   "execution_count": 66,
   "metadata": {
    "scrolled": true
   },
   "outputs": [
    {
     "data": {
      "text/html": [
       "<div>\n",
       "<style scoped>\n",
       "    .dataframe tbody tr th:only-of-type {\n",
       "        vertical-align: middle;\n",
       "    }\n",
       "\n",
       "    .dataframe tbody tr th {\n",
       "        vertical-align: top;\n",
       "    }\n",
       "\n",
       "    .dataframe thead th {\n",
       "        text-align: right;\n",
       "    }\n",
       "</style>\n",
       "<table border=\"1\" class=\"dataframe\">\n",
       "  <thead>\n",
       "    <tr style=\"text-align: right;\">\n",
       "      <th></th>\n",
       "      <th>model</th>\n",
       "      <th>brand</th>\n",
       "      <th>power</th>\n",
       "      <th>year of production</th>\n",
       "      <th>capacity of an engine</th>\n",
       "      <th>mileage</th>\n",
       "      <th>price</th>\n",
       "    </tr>\n",
       "  </thead>\n",
       "  <tbody>\n",
       "    <tr>\n",
       "      <th>418</th>\n",
       "      <td>Klasa S</td>\n",
       "      <td>Mercedes-Benz</td>\n",
       "      <td>388</td>\n",
       "      <td>2006</td>\n",
       "      <td>5461</td>\n",
       "      <td>199000</td>\n",
       "      <td>47900</td>\n",
       "    </tr>\n",
       "    <tr>\n",
       "      <th>234</th>\n",
       "      <td>Durango</td>\n",
       "      <td>Dodge</td>\n",
       "      <td>335</td>\n",
       "      <td>2005</td>\n",
       "      <td>5654</td>\n",
       "      <td>135680</td>\n",
       "      <td>25000</td>\n",
       "    </tr>\n",
       "    <tr>\n",
       "      <th>357</th>\n",
       "      <td>Seria 6</td>\n",
       "      <td>BMW</td>\n",
       "      <td>333</td>\n",
       "      <td>2004</td>\n",
       "      <td>4398</td>\n",
       "      <td>180000</td>\n",
       "      <td>36900</td>\n",
       "    </tr>\n",
       "    <tr>\n",
       "      <th>275</th>\n",
       "      <td>Seria 3</td>\n",
       "      <td>BMW</td>\n",
       "      <td>306</td>\n",
       "      <td>2007</td>\n",
       "      <td>2979</td>\n",
       "      <td>147300</td>\n",
       "      <td>39900</td>\n",
       "    </tr>\n",
       "    <tr>\n",
       "      <th>470</th>\n",
       "      <td>S80</td>\n",
       "      <td>Volvo</td>\n",
       "      <td>304</td>\n",
       "      <td>2012</td>\n",
       "      <td>2953</td>\n",
       "      <td>114266</td>\n",
       "      <td>49900</td>\n",
       "    </tr>\n",
       "    <tr>\n",
       "      <th>117</th>\n",
       "      <td>XC 90</td>\n",
       "      <td>Volvo</td>\n",
       "      <td>272</td>\n",
       "      <td>2007</td>\n",
       "      <td>2922</td>\n",
       "      <td>38000</td>\n",
       "      <td>18400</td>\n",
       "    </tr>\n",
       "    <tr>\n",
       "      <th>270</th>\n",
       "      <td>Leon</td>\n",
       "      <td>Seat</td>\n",
       "      <td>265</td>\n",
       "      <td>2010</td>\n",
       "      <td>1984</td>\n",
       "      <td>143400</td>\n",
       "      <td>36900</td>\n",
       "    </tr>\n",
       "    <tr>\n",
       "      <th>347</th>\n",
       "      <td>A3</td>\n",
       "      <td>Audi</td>\n",
       "      <td>250</td>\n",
       "      <td>2005</td>\n",
       "      <td>3200</td>\n",
       "      <td>179000</td>\n",
       "      <td>32323</td>\n",
       "    </tr>\n",
       "    <tr>\n",
       "      <th>420</th>\n",
       "      <td>X3</td>\n",
       "      <td>BMW</td>\n",
       "      <td>245</td>\n",
       "      <td>2013</td>\n",
       "      <td>1997</td>\n",
       "      <td>117000</td>\n",
       "      <td>48900</td>\n",
       "    </tr>\n",
       "    <tr>\n",
       "      <th>406</th>\n",
       "      <td>S60</td>\n",
       "      <td>Volvo</td>\n",
       "      <td>245</td>\n",
       "      <td>2014</td>\n",
       "      <td>1969</td>\n",
       "      <td>140000</td>\n",
       "      <td>46500</td>\n",
       "    </tr>\n",
       "    <tr>\n",
       "      <th>259</th>\n",
       "      <td>Pilot</td>\n",
       "      <td>Honda</td>\n",
       "      <td>244</td>\n",
       "      <td>2012</td>\n",
       "      <td>3500</td>\n",
       "      <td>176000</td>\n",
       "      <td>39900</td>\n",
       "    </tr>\n",
       "    <tr>\n",
       "      <th>130</th>\n",
       "      <td>Astra</td>\n",
       "      <td>Opel</td>\n",
       "      <td>240</td>\n",
       "      <td>2006</td>\n",
       "      <td>1998</td>\n",
       "      <td>181000</td>\n",
       "      <td>26500</td>\n",
       "    </tr>\n",
       "    <tr>\n",
       "      <th>16</th>\n",
       "      <td>RX-8</td>\n",
       "      <td>Mazda</td>\n",
       "      <td>231</td>\n",
       "      <td>2003</td>\n",
       "      <td>1300</td>\n",
       "      <td>113111</td>\n",
       "      <td>14500</td>\n",
       "    </tr>\n",
       "    <tr>\n",
       "      <th>111</th>\n",
       "      <td>Passat</td>\n",
       "      <td>Volkswagen</td>\n",
       "      <td>220</td>\n",
       "      <td>2015</td>\n",
       "      <td>1984</td>\n",
       "      <td>76000</td>\n",
       "      <td>15500</td>\n",
       "    </tr>\n",
       "    <tr>\n",
       "      <th>476</th>\n",
       "      <td>Golf</td>\n",
       "      <td>Volkswagen</td>\n",
       "      <td>220</td>\n",
       "      <td>2015</td>\n",
       "      <td>1991</td>\n",
       "      <td>90000</td>\n",
       "      <td>48999</td>\n",
       "    </tr>\n",
       "    <tr>\n",
       "      <th>458</th>\n",
       "      <td>A5</td>\n",
       "      <td>Audi</td>\n",
       "      <td>211</td>\n",
       "      <td>2010</td>\n",
       "      <td>1984</td>\n",
       "      <td>168000</td>\n",
       "      <td>44800</td>\n",
       "    </tr>\n",
       "    <tr>\n",
       "      <th>457</th>\n",
       "      <td>A5</td>\n",
       "      <td>Audi</td>\n",
       "      <td>211</td>\n",
       "      <td>2010</td>\n",
       "      <td>1984</td>\n",
       "      <td>175000</td>\n",
       "      <td>46000</td>\n",
       "    </tr>\n",
       "    <tr>\n",
       "      <th>415</th>\n",
       "      <td>CC</td>\n",
       "      <td>Volkswagen</td>\n",
       "      <td>210</td>\n",
       "      <td>2012</td>\n",
       "      <td>1984</td>\n",
       "      <td>60991</td>\n",
       "      <td>44900</td>\n",
       "    </tr>\n",
       "    <tr>\n",
       "      <th>465</th>\n",
       "      <td>Scirocco</td>\n",
       "      <td>Volkswagen</td>\n",
       "      <td>200</td>\n",
       "      <td>2013</td>\n",
       "      <td>1998</td>\n",
       "      <td>147350</td>\n",
       "      <td>43800</td>\n",
       "    </tr>\n",
       "    <tr>\n",
       "      <th>381</th>\n",
       "      <td>A5</td>\n",
       "      <td>Audi</td>\n",
       "      <td>190</td>\n",
       "      <td>2010</td>\n",
       "      <td>2698</td>\n",
       "      <td>72000</td>\n",
       "      <td>46500</td>\n",
       "    </tr>\n",
       "    <tr>\n",
       "      <th>360</th>\n",
       "      <td>Seria 5</td>\n",
       "      <td>BMW</td>\n",
       "      <td>190</td>\n",
       "      <td>2009</td>\n",
       "      <td>2497</td>\n",
       "      <td>186300</td>\n",
       "      <td>36000</td>\n",
       "    </tr>\n",
       "    <tr>\n",
       "      <th>351</th>\n",
       "      <td>Seria 3</td>\n",
       "      <td>BMW</td>\n",
       "      <td>184</td>\n",
       "      <td>2011</td>\n",
       "      <td>1995</td>\n",
       "      <td>178656</td>\n",
       "      <td>39800</td>\n",
       "    </tr>\n",
       "    <tr>\n",
       "      <th>388</th>\n",
       "      <td>X3</td>\n",
       "      <td>BMW</td>\n",
       "      <td>184</td>\n",
       "      <td>2011</td>\n",
       "      <td>1995</td>\n",
       "      <td>198757</td>\n",
       "      <td>48000</td>\n",
       "    </tr>\n",
       "    <tr>\n",
       "      <th>185</th>\n",
       "      <td>Seria 3</td>\n",
       "      <td>BMW</td>\n",
       "      <td>184</td>\n",
       "      <td>2010</td>\n",
       "      <td>1995</td>\n",
       "      <td>190860</td>\n",
       "      <td>25900</td>\n",
       "    </tr>\n",
       "    <tr>\n",
       "      <th>240</th>\n",
       "      <td>CLK</td>\n",
       "      <td>Mercedes-Benz</td>\n",
       "      <td>184</td>\n",
       "      <td>2006</td>\n",
       "      <td>1796</td>\n",
       "      <td>135800</td>\n",
       "      <td>32000</td>\n",
       "    </tr>\n",
       "    <tr>\n",
       "      <th>407</th>\n",
       "      <td>Seria 3</td>\n",
       "      <td>BMW</td>\n",
       "      <td>184</td>\n",
       "      <td>2012</td>\n",
       "      <td>1995</td>\n",
       "      <td>196000</td>\n",
       "      <td>40900</td>\n",
       "    </tr>\n",
       "    <tr>\n",
       "      <th>392</th>\n",
       "      <td>Sportage</td>\n",
       "      <td>Kia</td>\n",
       "      <td>183</td>\n",
       "      <td>2013</td>\n",
       "      <td>1995</td>\n",
       "      <td>161956</td>\n",
       "      <td>48900</td>\n",
       "    </tr>\n",
       "    <tr>\n",
       "      <th>238</th>\n",
       "      <td>Ibiza</td>\n",
       "      <td>Seat</td>\n",
       "      <td>180</td>\n",
       "      <td>2013</td>\n",
       "      <td>1390</td>\n",
       "      <td>149500</td>\n",
       "      <td>35900</td>\n",
       "    </tr>\n",
       "    <tr>\n",
       "      <th>226</th>\n",
       "      <td>Astra</td>\n",
       "      <td>Opel</td>\n",
       "      <td>180</td>\n",
       "      <td>2010</td>\n",
       "      <td>1598</td>\n",
       "      <td>117000</td>\n",
       "      <td>26900</td>\n",
       "    </tr>\n",
       "    <tr>\n",
       "      <th>137</th>\n",
       "      <td>Fabia</td>\n",
       "      <td>Škoda</td>\n",
       "      <td>180</td>\n",
       "      <td>2012</td>\n",
       "      <td>1390</td>\n",
       "      <td>116000</td>\n",
       "      <td>28900</td>\n",
       "    </tr>\n",
       "    <tr>\n",
       "      <th>...</th>\n",
       "      <td>...</td>\n",
       "      <td>...</td>\n",
       "      <td>...</td>\n",
       "      <td>...</td>\n",
       "      <td>...</td>\n",
       "      <td>...</td>\n",
       "      <td>...</td>\n",
       "    </tr>\n",
       "    <tr>\n",
       "      <th>134</th>\n",
       "      <td>Ibiza</td>\n",
       "      <td>Seat</td>\n",
       "      <td>75</td>\n",
       "      <td>2016</td>\n",
       "      <td>999</td>\n",
       "      <td>116000</td>\n",
       "      <td>25900</td>\n",
       "    </tr>\n",
       "    <tr>\n",
       "      <th>204</th>\n",
       "      <td>Dokker</td>\n",
       "      <td>Dacia</td>\n",
       "      <td>75</td>\n",
       "      <td>2014</td>\n",
       "      <td>1461</td>\n",
       "      <td>158000</td>\n",
       "      <td>24999</td>\n",
       "    </tr>\n",
       "    <tr>\n",
       "      <th>83</th>\n",
       "      <td>Roomster</td>\n",
       "      <td>Škoda</td>\n",
       "      <td>75</td>\n",
       "      <td>2010</td>\n",
       "      <td>1200</td>\n",
       "      <td>136000</td>\n",
       "      <td>16900</td>\n",
       "    </tr>\n",
       "    <tr>\n",
       "      <th>213</th>\n",
       "      <td>Fabia</td>\n",
       "      <td>Škoda</td>\n",
       "      <td>75</td>\n",
       "      <td>2016</td>\n",
       "      <td>999</td>\n",
       "      <td>108276</td>\n",
       "      <td>28899</td>\n",
       "    </tr>\n",
       "    <tr>\n",
       "      <th>248</th>\n",
       "      <td>Polo</td>\n",
       "      <td>Volkswagen</td>\n",
       "      <td>75</td>\n",
       "      <td>2015</td>\n",
       "      <td>1422</td>\n",
       "      <td>65450</td>\n",
       "      <td>31900</td>\n",
       "    </tr>\n",
       "    <tr>\n",
       "      <th>333</th>\n",
       "      <td>Fabia</td>\n",
       "      <td>Škoda</td>\n",
       "      <td>75</td>\n",
       "      <td>2016</td>\n",
       "      <td>999</td>\n",
       "      <td>89077</td>\n",
       "      <td>31900</td>\n",
       "    </tr>\n",
       "    <tr>\n",
       "      <th>115</th>\n",
       "      <td>Corsa</td>\n",
       "      <td>Opel</td>\n",
       "      <td>75</td>\n",
       "      <td>2010</td>\n",
       "      <td>1248</td>\n",
       "      <td>103924</td>\n",
       "      <td>14300</td>\n",
       "    </tr>\n",
       "    <tr>\n",
       "      <th>98</th>\n",
       "      <td>206 plus</td>\n",
       "      <td>Peugeot</td>\n",
       "      <td>75</td>\n",
       "      <td>2010</td>\n",
       "      <td>1360</td>\n",
       "      <td>159643</td>\n",
       "      <td>11800</td>\n",
       "    </tr>\n",
       "    <tr>\n",
       "      <th>237</th>\n",
       "      <td>Clio</td>\n",
       "      <td>Renault</td>\n",
       "      <td>75</td>\n",
       "      <td>2018</td>\n",
       "      <td>1461</td>\n",
       "      <td>66000</td>\n",
       "      <td>32900</td>\n",
       "    </tr>\n",
       "    <tr>\n",
       "      <th>203</th>\n",
       "      <td>Yaris</td>\n",
       "      <td>Toyota</td>\n",
       "      <td>74</td>\n",
       "      <td>2013</td>\n",
       "      <td>1497</td>\n",
       "      <td>99300</td>\n",
       "      <td>29900</td>\n",
       "    </tr>\n",
       "    <tr>\n",
       "      <th>287</th>\n",
       "      <td>Clio</td>\n",
       "      <td>Renault</td>\n",
       "      <td>73</td>\n",
       "      <td>2016</td>\n",
       "      <td>1149</td>\n",
       "      <td>96638</td>\n",
       "      <td>37500</td>\n",
       "    </tr>\n",
       "    <tr>\n",
       "      <th>298</th>\n",
       "      <td>Clio</td>\n",
       "      <td>Renault</td>\n",
       "      <td>73</td>\n",
       "      <td>2016</td>\n",
       "      <td>1149</td>\n",
       "      <td>39973</td>\n",
       "      <td>30500</td>\n",
       "    </tr>\n",
       "    <tr>\n",
       "      <th>140</th>\n",
       "      <td>Forfour</td>\n",
       "      <td>Smart</td>\n",
       "      <td>71</td>\n",
       "      <td>2016</td>\n",
       "      <td>900</td>\n",
       "      <td>20900</td>\n",
       "      <td>25900</td>\n",
       "    </tr>\n",
       "    <tr>\n",
       "      <th>442</th>\n",
       "      <td>Micra</td>\n",
       "      <td>Nissan</td>\n",
       "      <td>71</td>\n",
       "      <td>2017</td>\n",
       "      <td>999</td>\n",
       "      <td>61587</td>\n",
       "      <td>40900</td>\n",
       "    </tr>\n",
       "    <tr>\n",
       "      <th>446</th>\n",
       "      <td>Micra</td>\n",
       "      <td>Nissan</td>\n",
       "      <td>71</td>\n",
       "      <td>2017</td>\n",
       "      <td>999</td>\n",
       "      <td>51652</td>\n",
       "      <td>41900</td>\n",
       "    </tr>\n",
       "    <tr>\n",
       "      <th>89</th>\n",
       "      <td>Ibiza</td>\n",
       "      <td>Seat</td>\n",
       "      <td>70</td>\n",
       "      <td>2008</td>\n",
       "      <td>1198</td>\n",
       "      <td>58000</td>\n",
       "      <td>15500</td>\n",
       "    </tr>\n",
       "    <tr>\n",
       "      <th>28</th>\n",
       "      <td>Polo</td>\n",
       "      <td>Volkswagen</td>\n",
       "      <td>70</td>\n",
       "      <td>2009</td>\n",
       "      <td>1198</td>\n",
       "      <td>125300</td>\n",
       "      <td>17999</td>\n",
       "    </tr>\n",
       "    <tr>\n",
       "      <th>274</th>\n",
       "      <td>Corsa</td>\n",
       "      <td>Opel</td>\n",
       "      <td>70</td>\n",
       "      <td>2017</td>\n",
       "      <td>1229</td>\n",
       "      <td>39624</td>\n",
       "      <td>32500</td>\n",
       "    </tr>\n",
       "    <tr>\n",
       "      <th>3</th>\n",
       "      <td>Corsa</td>\n",
       "      <td>Opel</td>\n",
       "      <td>70</td>\n",
       "      <td>2011</td>\n",
       "      <td>1229</td>\n",
       "      <td>105358</td>\n",
       "      <td>15900</td>\n",
       "    </tr>\n",
       "    <tr>\n",
       "      <th>75</th>\n",
       "      <td>Polo</td>\n",
       "      <td>Volkswagen</td>\n",
       "      <td>70</td>\n",
       "      <td>2011</td>\n",
       "      <td>1198</td>\n",
       "      <td>123000</td>\n",
       "      <td>19200</td>\n",
       "    </tr>\n",
       "    <tr>\n",
       "      <th>49</th>\n",
       "      <td>Polo</td>\n",
       "      <td>Volkswagen</td>\n",
       "      <td>69</td>\n",
       "      <td>2007</td>\n",
       "      <td>1198</td>\n",
       "      <td>161745</td>\n",
       "      <td>12900</td>\n",
       "    </tr>\n",
       "    <tr>\n",
       "      <th>342</th>\n",
       "      <td>Aygo</td>\n",
       "      <td>Toyota</td>\n",
       "      <td>69</td>\n",
       "      <td>2017</td>\n",
       "      <td>998</td>\n",
       "      <td>31063</td>\n",
       "      <td>33600</td>\n",
       "    </tr>\n",
       "    <tr>\n",
       "      <th>80</th>\n",
       "      <td>Aygo</td>\n",
       "      <td>Toyota</td>\n",
       "      <td>68</td>\n",
       "      <td>2009</td>\n",
       "      <td>1000</td>\n",
       "      <td>136000</td>\n",
       "      <td>10300</td>\n",
       "    </tr>\n",
       "    <tr>\n",
       "      <th>34</th>\n",
       "      <td>C1</td>\n",
       "      <td>Citroën</td>\n",
       "      <td>68</td>\n",
       "      <td>2013</td>\n",
       "      <td>998</td>\n",
       "      <td>129630</td>\n",
       "      <td>14500</td>\n",
       "    </tr>\n",
       "    <tr>\n",
       "      <th>62</th>\n",
       "      <td>Alto</td>\n",
       "      <td>Suzuki</td>\n",
       "      <td>68</td>\n",
       "      <td>2007</td>\n",
       "      <td>996</td>\n",
       "      <td>59746</td>\n",
       "      <td>13700</td>\n",
       "    </tr>\n",
       "    <tr>\n",
       "      <th>32</th>\n",
       "      <td>Micra</td>\n",
       "      <td>Nissan</td>\n",
       "      <td>65</td>\n",
       "      <td>2009</td>\n",
       "      <td>1240</td>\n",
       "      <td>149000</td>\n",
       "      <td>11500</td>\n",
       "    </tr>\n",
       "    <tr>\n",
       "      <th>108</th>\n",
       "      <td>Citigo</td>\n",
       "      <td>Škoda</td>\n",
       "      <td>60</td>\n",
       "      <td>2013</td>\n",
       "      <td>999</td>\n",
       "      <td>106000</td>\n",
       "      <td>12500</td>\n",
       "    </tr>\n",
       "    <tr>\n",
       "      <th>132</th>\n",
       "      <td>Polo</td>\n",
       "      <td>Volkswagen</td>\n",
       "      <td>60</td>\n",
       "      <td>2015</td>\n",
       "      <td>999</td>\n",
       "      <td>84000</td>\n",
       "      <td>28500</td>\n",
       "    </tr>\n",
       "    <tr>\n",
       "      <th>53</th>\n",
       "      <td>Yaris</td>\n",
       "      <td>Toyota</td>\n",
       "      <td>0</td>\n",
       "      <td>2007</td>\n",
       "      <td>1296</td>\n",
       "      <td>159000</td>\n",
       "      <td>16000</td>\n",
       "    </tr>\n",
       "    <tr>\n",
       "      <th>19</th>\n",
       "      <td>Polo</td>\n",
       "      <td>Volkswagen</td>\n",
       "      <td>0</td>\n",
       "      <td>2011</td>\n",
       "      <td>0</td>\n",
       "      <td>165000</td>\n",
       "      <td>19900</td>\n",
       "    </tr>\n",
       "  </tbody>\n",
       "</table>\n",
       "<p>350 rows × 7 columns</p>\n",
       "</div>"
      ],
      "text/plain": [
       "        model          brand  power  year of production  \\\n",
       "418   Klasa S  Mercedes-Benz    388                2006   \n",
       "234   Durango          Dodge    335                2005   \n",
       "357   Seria 6            BMW    333                2004   \n",
       "275   Seria 3            BMW    306                2007   \n",
       "470       S80          Volvo    304                2012   \n",
       "117     XC 90          Volvo    272                2007   \n",
       "270      Leon           Seat    265                2010   \n",
       "347        A3           Audi    250                2005   \n",
       "420        X3            BMW    245                2013   \n",
       "406       S60          Volvo    245                2014   \n",
       "259     Pilot          Honda    244                2012   \n",
       "130     Astra           Opel    240                2006   \n",
       "16       RX-8          Mazda    231                2003   \n",
       "111    Passat     Volkswagen    220                2015   \n",
       "476      Golf     Volkswagen    220                2015   \n",
       "458        A5           Audi    211                2010   \n",
       "457        A5           Audi    211                2010   \n",
       "415        CC     Volkswagen    210                2012   \n",
       "465  Scirocco     Volkswagen    200                2013   \n",
       "381        A5           Audi    190                2010   \n",
       "360   Seria 5            BMW    190                2009   \n",
       "351   Seria 3            BMW    184                2011   \n",
       "388        X3            BMW    184                2011   \n",
       "185   Seria 3            BMW    184                2010   \n",
       "240       CLK  Mercedes-Benz    184                2006   \n",
       "407   Seria 3            BMW    184                2012   \n",
       "392  Sportage            Kia    183                2013   \n",
       "238     Ibiza           Seat    180                2013   \n",
       "226     Astra           Opel    180                2010   \n",
       "137     Fabia          Škoda    180                2012   \n",
       "..        ...            ...    ...                 ...   \n",
       "134     Ibiza           Seat     75                2016   \n",
       "204    Dokker          Dacia     75                2014   \n",
       "83   Roomster          Škoda     75                2010   \n",
       "213     Fabia          Škoda     75                2016   \n",
       "248      Polo     Volkswagen     75                2015   \n",
       "333     Fabia          Škoda     75                2016   \n",
       "115     Corsa           Opel     75                2010   \n",
       "98   206 plus        Peugeot     75                2010   \n",
       "237      Clio        Renault     75                2018   \n",
       "203     Yaris         Toyota     74                2013   \n",
       "287      Clio        Renault     73                2016   \n",
       "298      Clio        Renault     73                2016   \n",
       "140   Forfour          Smart     71                2016   \n",
       "442     Micra         Nissan     71                2017   \n",
       "446     Micra         Nissan     71                2017   \n",
       "89      Ibiza           Seat     70                2008   \n",
       "28       Polo     Volkswagen     70                2009   \n",
       "274     Corsa           Opel     70                2017   \n",
       "3       Corsa           Opel     70                2011   \n",
       "75       Polo     Volkswagen     70                2011   \n",
       "49       Polo     Volkswagen     69                2007   \n",
       "342      Aygo         Toyota     69                2017   \n",
       "80       Aygo         Toyota     68                2009   \n",
       "34         C1        Citroën     68                2013   \n",
       "62       Alto         Suzuki     68                2007   \n",
       "32      Micra         Nissan     65                2009   \n",
       "108    Citigo          Škoda     60                2013   \n",
       "132      Polo     Volkswagen     60                2015   \n",
       "53      Yaris         Toyota      0                2007   \n",
       "19       Polo     Volkswagen      0                2011   \n",
       "\n",
       "     capacity of an engine  mileage  price  \n",
       "418                   5461   199000  47900  \n",
       "234                   5654   135680  25000  \n",
       "357                   4398   180000  36900  \n",
       "275                   2979   147300  39900  \n",
       "470                   2953   114266  49900  \n",
       "117                   2922    38000  18400  \n",
       "270                   1984   143400  36900  \n",
       "347                   3200   179000  32323  \n",
       "420                   1997   117000  48900  \n",
       "406                   1969   140000  46500  \n",
       "259                   3500   176000  39900  \n",
       "130                   1998   181000  26500  \n",
       "16                    1300   113111  14500  \n",
       "111                   1984    76000  15500  \n",
       "476                   1991    90000  48999  \n",
       "458                   1984   168000  44800  \n",
       "457                   1984   175000  46000  \n",
       "415                   1984    60991  44900  \n",
       "465                   1998   147350  43800  \n",
       "381                   2698    72000  46500  \n",
       "360                   2497   186300  36000  \n",
       "351                   1995   178656  39800  \n",
       "388                   1995   198757  48000  \n",
       "185                   1995   190860  25900  \n",
       "240                   1796   135800  32000  \n",
       "407                   1995   196000  40900  \n",
       "392                   1995   161956  48900  \n",
       "238                   1390   149500  35900  \n",
       "226                   1598   117000  26900  \n",
       "137                   1390   116000  28900  \n",
       "..                     ...      ...    ...  \n",
       "134                    999   116000  25900  \n",
       "204                   1461   158000  24999  \n",
       "83                    1200   136000  16900  \n",
       "213                    999   108276  28899  \n",
       "248                   1422    65450  31900  \n",
       "333                    999    89077  31900  \n",
       "115                   1248   103924  14300  \n",
       "98                    1360   159643  11800  \n",
       "237                   1461    66000  32900  \n",
       "203                   1497    99300  29900  \n",
       "287                   1149    96638  37500  \n",
       "298                   1149    39973  30500  \n",
       "140                    900    20900  25900  \n",
       "442                    999    61587  40900  \n",
       "446                    999    51652  41900  \n",
       "89                    1198    58000  15500  \n",
       "28                    1198   125300  17999  \n",
       "274                   1229    39624  32500  \n",
       "3                     1229   105358  15900  \n",
       "75                    1198   123000  19200  \n",
       "49                    1198   161745  12900  \n",
       "342                    998    31063  33600  \n",
       "80                    1000   136000  10300  \n",
       "34                     998   129630  14500  \n",
       "62                     996    59746  13700  \n",
       "32                    1240   149000  11500  \n",
       "108                    999   106000  12500  \n",
       "132                    999    84000  28500  \n",
       "53                    1296   159000  16000  \n",
       "19                       0   165000  19900  \n",
       "\n",
       "[350 rows x 7 columns]"
      ]
     },
     "execution_count": 66,
     "metadata": {},
     "output_type": "execute_result"
    }
   ],
   "source": [
    "df1[df1['mileage']<=200000][important_params].sort_values(by='power',ascending=False)"
   ]
  },
  {
   "cell_type": "markdown",
   "metadata": {},
   "source": [
    "## distribution of a price for cars with different mileage"
   ]
  },
  {
   "cell_type": "code",
   "execution_count": 29,
   "metadata": {},
   "outputs": [],
   "source": [
    "bins=[0,50000,100000,150000,200000,250000,300000,350000,float('inf')]\n",
    "df['mileage category']=pd.cut(df['mileage'],bins,labels=[1,2,3,4,5,6,7,8])"
   ]
  },
  {
   "cell_type": "code",
   "execution_count": 31,
   "metadata": {},
   "outputs": [
    {
     "data": {
      "text/plain": [
       "<matplotlib.axes._subplots.AxesSubplot at 0x22df6064a90>"
      ]
     },
     "execution_count": 31,
     "metadata": {},
     "output_type": "execute_result"
    },
    {
     "data": {
      "image/png": "[encoded data removed]",
      "text/plain": [
       "<Figure size 432x288 with 1 Axes>"
      ]
     },
     "metadata": {
      "needs_background": "light"
     },
     "output_type": "display_data"
    }
   ],
   "source": [
    "sns.boxplot(x='mileage category',y='price',data=df)"
   ]
  },
  {
   "cell_type": "markdown",
   "metadata": {},
   "source": [
    "A mileage category 1 means mileage between 0 and 50000, a mileage category 2 means mileage between 50000 and 100000, a mileage category 3 means mileage between 100000 and 150000 etc."
   ]
  },
  {
   "cell_type": "markdown",
   "metadata": {},
   "source": [
    "## distribution of a price for cars with different power"
   ]
  },
  {
   "cell_type": "code",
   "execution_count": 38,
   "metadata": {},
   "outputs": [],
   "source": [
    "bins=[0,100,150,200,250]\n",
    "df['power category']=pd.cut(df['power'],bins,labels=[1,2,3,4])"
   ]
  },
  {
   "cell_type": "code",
   "execution_count": 39,
   "metadata": {},
   "outputs": [
    {
     "data": {
      "text/plain": [
       "<matplotlib.axes._subplots.AxesSubplot at 0x22df6a86da0>"
      ]
     },
     "execution_count": 39,
     "metadata": {},
     "output_type": "execute_result"
    },
    {
     "data": {
      "image/png": "[encoded data removed]",
      "text/plain": [
       "<Figure size 432x288 with 1 Axes>"
      ]
     },
     "metadata": {
      "needs_background": "light"
     },
     "output_type": "display_data"
    }
   ],
   "source": [
    "sns.boxplot(x='power category',y='price', data=df)"
   ]
  },
  {
   "cell_type": "markdown",
   "metadata": {},
   "source": [
    "A power category 1 means a power between 0 and 100, a power category 2 means a power between 100 and 150, a power category 3 means a power between 150 and 200, etc."
   ]
  },
  {
   "cell_type": "markdown",
   "metadata": {},
   "source": [
    "## distribution of a price for cars produced in different years"
   ]
  },
  {
   "cell_type": "code",
   "execution_count": null,
   "metadata": {},
   "outputs": [],
   "source": [
    "bins=[float('-inf'),2000,2003,2006,2009,2012,2016,2018]\n",
    "df2=pd.DataFrame(pd.cut(df['year of production'],bins,labels=[1,2,3,4,5,6,7])).rename(columns={'year of production':'year category'})\n",
    "df2"
   ]
  },
  {
   "cell_type": "code",
   "execution_count": 35,
   "metadata": {},
   "outputs": [
    {
     "data": {
      "text/plain": [
       "<matplotlib.axes._subplots.AxesSubplot at 0x22df632f710>"
      ]
     },
     "execution_count": 35,
     "metadata": {},
     "output_type": "execute_result"
    },
    {
     "data": {
      "image/png": "[encoded data removed]",
      "text/plain": [
       "<Figure size 432x288 with 1 Axes>"
      ]
     },
     "metadata": {
      "needs_background": "light"
     },
     "output_type": "display_data"
    }
   ],
   "source": [
    "sns.boxplot(x='year category',y='price',data=pd.concat([df,df2],axis=1))"
   ]
  },
  {
   "cell_type": "markdown",
   "metadata": {},
   "source": [
    "A year category 1 means a year of production before 2000, a year category 2 means a year of production between 2000 and 2003, a year category 3 means a year of production between 2004 and 2007, a year category 4 means a year of production between 2008 and 2011, etc."
   ]
  },
  {
   "cell_type": "markdown",
   "metadata": {},
   "source": [
    "## distribution of a price for cars with different power and produced in different years"
   ]
  },
  {
   "cell_type": "code",
   "execution_count": 40,
   "metadata": {},
   "outputs": [
    {
     "name": "stderr",
     "output_type": "stream",
     "text": [
      "C:\\ProgramData\\Anaconda3\\lib\\site-packages\\seaborn\\axisgrid.py:715: UserWarning: Using the boxplot function without specifying `order` is likely to produce an incorrect plot.\n",
      "  warnings.warn(warning)\n"
     ]
    },
    {
     "data": {
      "text/plain": [
       "<seaborn.axisgrid.FacetGrid at 0x22df69eb6a0>"
      ]
     },
     "execution_count": 40,
     "metadata": {},
     "output_type": "execute_result"
    },
    {
     "data": {
      "image/png": "[encoded data removed]",
      "text/plain": [
       "<Figure size 432x864 with 4 Axes>"
      ]
     },
     "metadata": {
      "needs_background": "light"
     },
     "output_type": "display_data"
    }
   ],
   "source": [
    "sns.FacetGrid(pd.concat([df,df2],axis=1),row='power category',aspect=2).map(sns.boxplot,'year category','price')"
   ]
  },
  {
   "cell_type": "code",
   "execution_count": 13,
   "metadata": {},
   "outputs": [
    {
     "data": {
      "text/plain": [
       "<matplotlib.axes._subplots.AxesSubplot at 0x29c8a1ff860>"
      ]
     },
     "execution_count": 13,
     "metadata": {},
     "output_type": "execute_result"
    },
    {
     "data": {
      "image/png": "[encoded data removed]",
      "text/plain": [
       "<Figure size 432x288 with 2 Axes>"
      ]
     },
     "metadata": {
      "needs_background": "light"
     },
     "output_type": "display_data"
    }
   ],
   "source": [
    "sns.heatmap(df[['power','year of production','capacity of an engine','mileage','price']].corr(),annot=True)"
   ]
  },
  {
   "cell_type": "markdown",
   "metadata": {},
   "source": [
    "## model building"
   ]
  },
  {
   "cell_type": "code",
   "execution_count": 43,
   "metadata": {},
   "outputs": [],
   "source": [
    "df1=df.drop(['brand','model','Oferta od','Rodzaj paliwa','Skrzynia biegów','Typ',\n",
    "              'Okres gwarancji producenta','Kraj pochodzenia'],axis=1)"
   ]
  },
  {
   "cell_type": "markdown",
   "metadata": {},
   "source": [
    "I have checked a different models and the best one was the Linear Regression. We will calculate root mean squared error in order to evaluate how good our model is performing."
   ]
  },
  {
   "cell_type": "code",
   "execution_count": 59,
   "metadata": {},
   "outputs": [
    {
     "name": "stdout",
     "output_type": "stream",
     "text": [
      "RMSE: 5708.6594291245565\n"
     ]
    }
   ],
   "source": [
    "from sklearn.model_selection import train_test_split\n",
    "x=df1.drop('price',axis=1)\n",
    "y=df1['price']\n",
    "x_train,x_test,y_train,y_test=train_test_split(x,y,test_size=0.2)\n",
    "\n",
    "from sklearn.linear_model import LinearRegression\n",
    "from sklearn.metrics import mean_squared_error\n",
    "model=LinearRegression()\n",
    "model.fit(x_train,y_train)\n",
    "pred=model.predict(x_test)\n",
    "print('RMSE: {}'.format(np.sqrt(mean_squared_error(y_test,pred))))"
   ]
  },
  {
   "cell_type": "markdown",
   "metadata": {},
   "source": [
    "## model 2"
   ]
  },
  {
   "cell_type": "markdown",
   "metadata": {},
   "source": [
    "In this model we will remove outliers."
   ]
  },
  {
   "cell_type": "code",
   "execution_count": 61,
   "metadata": {
    "scrolled": true
   },
   "outputs": [
    {
     "data": {
      "text/plain": [
       "2082          163\n",
       "5616          165\n",
       "5925          911\n",
       "1490         1500\n",
       "6241         7000\n",
       "5585         7200\n",
       "3885         7782\n",
       "7308         8574\n",
       "4810         8600\n",
       "4759         9000\n",
       "4711         9041\n",
       "6268         9041\n",
       "3781        10341\n",
       "4106        10885\n",
       "6321        10937\n",
       "3187        11000\n",
       "6040        11000\n",
       "6995        11500\n",
       "6631        11500\n",
       "4653        11500\n",
       "5556        12072\n",
       "4556        12128\n",
       "2464        12257\n",
       "4774        12441\n",
       "5371        12900\n",
       "6813        13000\n",
       "4326        13000\n",
       "6706        13000\n",
       "6045        13655\n",
       "4625        14078\n",
       "          ...    \n",
       "5263       389400\n",
       "1469       392000\n",
       "4564       392895\n",
       "4091       396000\n",
       "5502       397000\n",
       "967        397757\n",
       "897        399914\n",
       "943        400000\n",
       "6733       417800\n",
       "6799       420000\n",
       "6774       424000\n",
       "1500       427000\n",
       "4280       434715\n",
       "3444       440000\n",
       "2861       440000\n",
       "1574       465000\n",
       "5419       470241\n",
       "389        474500\n",
       "2595       496000\n",
       "4377       496000\n",
       "572        496000\n",
       "1222       497000\n",
       "5395       497192\n",
       "1012       516000\n",
       "648        519332\n",
       "2155       590000\n",
       "5832       700000\n",
       "4631       999999\n",
       "1624      2446325\n",
       "1697    214042752\n",
       "Name: mileage, Length: 7311, dtype: int64"
      ]
     },
     "execution_count": 61,
     "metadata": {},
     "output_type": "execute_result"
    }
   ],
   "source": [
    "df1['mileage'].sort_values()"
   ]
  },
  {
   "cell_type": "code",
   "execution_count": 62,
   "metadata": {},
   "outputs": [],
   "source": [
    "df1=df1[df1['mileage']<=519332]"
   ]
  },
  {
   "cell_type": "code",
   "execution_count": 63,
   "metadata": {},
   "outputs": [
    {
     "data": {
      "text/plain": [
       "(array([ 407., 1103., 1887., 2015., 1184.,  497.,  146.,   50.,    8.,\n",
       "           9.]), array([1.630000e+02, 5.207990e+04, 1.039968e+05, 1.559137e+05,\n",
       "        2.078306e+05, 2.597475e+05, 3.116644e+05, 3.635813e+05,\n",
       "        4.154982e+05, 4.674151e+05, 5.193320e+05]), <a list of 10 Patch objects>)"
      ]
     },
     "execution_count": 63,
     "metadata": {},
     "output_type": "execute_result"
    },
    {
     "data": {
      "image/png": "[encoded data removed]",
      "text/plain": [
       "<Figure size 432x288 with 1 Axes>"
      ]
     },
     "metadata": {
      "needs_background": "light"
     },
     "output_type": "display_data"
    }
   ],
   "source": [
    "plt.hist(df1['mileage'])"
   ]
  },
  {
   "cell_type": "code",
   "execution_count": 64,
   "metadata": {},
   "outputs": [
    {
     "data": {
      "text/plain": [
       "(array([1.000e+01, 1.952e+03, 3.893e+03, 1.032e+03, 2.650e+02, 1.050e+02,\n",
       "        3.600e+01, 8.000e+00, 4.000e+00, 1.000e+00]),\n",
       " array([  5.,  57., 109., 161., 213., 265., 317., 369., 421., 473., 525.]),\n",
       " <a list of 10 Patch objects>)"
      ]
     },
     "execution_count": 64,
     "metadata": {},
     "output_type": "execute_result"
    },
    {
     "data": {
      "image/png": "[encoded data removed]",
      "text/plain": [
       "<Figure size 432x288 with 1 Axes>"
      ]
     },
     "metadata": {
      "needs_background": "light"
     },
     "output_type": "display_data"
    }
   ],
   "source": [
    "plt.hist(df1['power'])"
   ]
  },
  {
   "cell_type": "code",
   "execution_count": 65,
   "metadata": {},
   "outputs": [
    {
     "data": {
      "text/plain": [
       "(array([57., 66., 22., 17., 11.,  1.,  1.,  4.,  0.,  1.]),\n",
       " array([252. , 279.3, 306.6, 333.9, 361.2, 388.5, 415.8, 443.1, 470.4,\n",
       "        497.7, 525. ]),\n",
       " <a list of 10 Patch objects>)"
      ]
     },
     "execution_count": 65,
     "metadata": {},
     "output_type": "execute_result"
    },
    {
     "data": {
      "image/png": "[encoded data removed]",
      "text/plain": [
       "<Figure size 432x288 with 1 Axes>"
      ]
     },
     "metadata": {
      "needs_background": "light"
     },
     "output_type": "display_data"
    }
   ],
   "source": [
    "plt.hist(df1[df1['power']>250]['power'])"
   ]
  },
  {
   "cell_type": "code",
   "execution_count": 66,
   "metadata": {},
   "outputs": [
    {
     "data": {
      "text/plain": [
       "(array([  4.,   0.,   2.,   0.,   0.,   0.,   0.,   4.,  48., 105.]),\n",
       " array([ 5. , 11.4, 17.8, 24.2, 30.6, 37. , 43.4, 49.8, 56.2, 62.6, 69. ]),\n",
       " <a list of 10 Patch objects>)"
      ]
     },
     "execution_count": 66,
     "metadata": {},
     "output_type": "execute_result"
    },
    {
     "data": {
      "image/png": "[encoded data removed]",
      "text/plain": [
       "<Figure size 432x288 with 1 Axes>"
      ]
     },
     "metadata": {
      "needs_background": "light"
     },
     "output_type": "display_data"
    }
   ],
   "source": [
    "plt.hist(df1[df1['power']<70]['power'])"
   ]
  },
  {
   "cell_type": "code",
   "execution_count": 67,
   "metadata": {},
   "outputs": [
    {
     "data": {
      "text/plain": [
       "(array([ 588., 1447., 1857., 1822.,  809.,  311.,  169.,  121.,   56.,\n",
       "          59.]),\n",
       " array([ 60. ,  84.6, 109.2, 133.8, 158.4, 183. , 207.6, 232.2, 256.8,\n",
       "        281.4, 306. ]),\n",
       " <a list of 10 Patch objects>)"
      ]
     },
     "execution_count": 67,
     "metadata": {},
     "output_type": "execute_result"
    },
    {
     "data": {
      "image/png": "[encoded data removed]",
      "text/plain": [
       "<Figure size 432x288 with 1 Axes>"
      ]
     },
     "metadata": {
      "needs_background": "light"
     },
     "output_type": "display_data"
    }
   ],
   "source": [
    "plt.hist(df1[(df1['power']>=56)&(df1['power']<=306)]['power'])"
   ]
  },
  {
   "cell_type": "code",
   "execution_count": 68,
   "metadata": {},
   "outputs": [],
   "source": [
    "df1=df1[(df1['power']>=56)&(df1['power']<=306)]"
   ]
  },
  {
   "cell_type": "code",
   "execution_count": 70,
   "metadata": {},
   "outputs": [
    {
     "data": {
      "text/plain": [
       "(array([1.000e+00, 0.000e+00, 0.000e+00, 0.000e+00, 2.000e+00, 1.000e+00,\n",
       "        3.000e+00, 0.000e+00, 8.000e+00, 5.000e+00, 1.200e+01, 2.100e+01,\n",
       "        1.400e+01, 8.700e+01, 1.580e+02, 9.160e+02, 1.797e+03, 1.385e+03,\n",
       "        1.734e+03, 1.095e+03]),\n",
       " array([1966. , 1968.6, 1971.2, 1973.8, 1976.4, 1979. , 1981.6, 1984.2,\n",
       "        1986.8, 1989.4, 1992. , 1994.6, 1997.2, 1999.8, 2002.4, 2005. ,\n",
       "        2007.6, 2010.2, 2012.8, 2015.4, 2018. ]),\n",
       " <a list of 20 Patch objects>)"
      ]
     },
     "execution_count": 70,
     "metadata": {},
     "output_type": "execute_result"
    },
    {
     "data": {
      "image/png": "[encoded data removed]",
      "text/plain": [
       "<Figure size 432x288 with 1 Axes>"
      ]
     },
     "metadata": {
      "needs_background": "light"
     },
     "output_type": "display_data"
    }
   ],
   "source": [
    "plt.hist(df1['year of production'],bins=20)"
   ]
  },
  {
   "cell_type": "code",
   "execution_count": 73,
   "metadata": {},
   "outputs": [
    {
     "data": {
      "text/plain": [
       "2002    40\n",
       "2001    25\n",
       "2000    22\n",
       "1999    11\n",
       "1995     8\n",
       "1997     8\n",
       "1994     5\n",
       "1992     5\n",
       "1996     5\n",
       "1989     4\n",
       "1998     3\n",
       "1991     3\n",
       "1993     2\n",
       "1990     2\n",
       "1988     2\n",
       "1987     2\n",
       "1983     2\n",
       "1978     2\n",
       "1984     1\n",
       "1980     1\n",
       "1966     1\n",
       "Name: year of production, dtype: int64"
      ]
     },
     "execution_count": 73,
     "metadata": {},
     "output_type": "execute_result"
    }
   ],
   "source": [
    "df1[df1['year of production']<=2002]['year of production'].value_counts()"
   ]
  },
  {
   "cell_type": "code",
   "execution_count": 74,
   "metadata": {},
   "outputs": [],
   "source": [
    "df1=df1[df1['year of production']>=2000]"
   ]
  },
  {
   "cell_type": "code",
   "execution_count": 76,
   "metadata": {},
   "outputs": [
    {
     "name": "stdout",
     "output_type": "stream",
     "text": [
      "RMSE: 4468.731136393623\n"
     ]
    }
   ],
   "source": [
    "from sklearn.model_selection import train_test_split\n",
    "x=df1.drop('price',axis=1)\n",
    "y=df1['price']\n",
    "x_train,x_test,y_train,y_test=train_test_split(x,y,test_size=0.2)\n",
    "\n",
    "from sklearn.linear_model import LinearRegression\n",
    "from sklearn.metrics import mean_squared_error\n",
    "model=LinearRegression()\n",
    "model.fit(x_train,y_train)\n",
    "pred=model.predict(x_test)\n",
    "print('RMSE: {}'.format(np.sqrt(mean_squared_error(y_test,pred))))"
   ]
  },
  {
   "cell_type": "markdown",
   "metadata": {},
   "source": [
    "Let's see how a distribution of an error (error = |real price - predicted price|) looks like."
   ]
  },
  {
   "cell_type": "code",
   "execution_count": 103,
   "metadata": {},
   "outputs": [],
   "source": [
    "error=[]\n",
    "for i in range(len(pred)):\n",
    "    x=pred[i]\n",
    "    y=y_test.values[i]\n",
    "    error.append(abs(y-x))"
   ]
  },
  {
   "cell_type": "code",
   "execution_count": 105,
   "metadata": {
    "scrolled": true
   },
   "outputs": [
    {
     "data": {
      "text/plain": [
       "<matplotlib.axes._subplots.AxesSubplot at 0x210225522b0>"
      ]
     },
     "execution_count": 105,
     "metadata": {},
     "output_type": "execute_result"
    },
    {
     "data": {
      "image/png": "[encoded data removed]",
      "text/plain": [
       "<Figure size 432x288 with 1 Axes>"
      ]
     },
     "metadata": {
      "needs_background": "light"
     },
     "output_type": "display_data"
    }
   ],
   "source": [
    "sns.boxplot(pd.DataFrame(error))"
   ]
  },
  {
   "cell_type": "markdown",
   "metadata": {},
   "source": [
    "From this graph we can see that in 75% of cases the error was smaller than 5000 and in almost all cases the error was smaller 10000. "
   ]
  },
  {
   "cell_type": "markdown",
   "metadata": {},
   "source": [
    "Now we will define error as a ratio of a difference of prices to a real price (error = |real price - predicted price| / real price)"
   ]
  },
  {
   "cell_type": "code",
   "execution_count": 108,
   "metadata": {},
   "outputs": [],
   "source": [
    "error=[]\n",
    "for i in range(len(pred)):\n",
    "    x=pred[i]\n",
    "    y=y_test.values[i]\n",
    "    error.append(abs(y-x)/y)"
   ]
  },
  {
   "cell_type": "code",
   "execution_count": 109,
   "metadata": {},
   "outputs": [
    {
     "data": {
      "text/plain": [
       "<matplotlib.axes._subplots.AxesSubplot at 0x21024b33dd8>"
      ]
     },
     "execution_count": 109,
     "metadata": {},
     "output_type": "execute_result"
    },
    {
     "data": {
      "image/png": "[encoded data removed]",
      "text/plain": [
       "<Figure size 432x288 with 1 Axes>"
      ]
     },
     "metadata": {
      "needs_background": "light"
     },
     "output_type": "display_data"
    }
   ],
   "source": [
    "sns.boxplot(pd.DataFrame(error))"
   ]
  },
  {
   "cell_type": "markdown",
   "metadata": {},
   "source": [
    "From this graph we can see that in 75% of cases the error was smaller than 20% of a real price and in almost all cases it was smaller than 40% of a real price."
   ]
  }
 ],
 "metadata": {
  "kernelspec": {
   "display_name": "Python 3",
   "language": "python",
   "name": "python3"
  },
  "language_info": {
   "codemirror_mode": {
    "name": "ipython",
    "version": 3
   },
   "file_extension": ".py",
   "mimetype": "text/x-python",
   "name": "python",
   "nbconvert_exporter": "python",
   "pygments_lexer": "ipython3",
   "version": "3.7.3"
  }
 },
 "nbformat": 4,
 "nbformat_minor": 2
}
